{
 "cells": [
  {
   "cell_type": "markdown",
   "metadata": {},
   "source": [
    "# 1. Подготовка данных"
   ]
  },
  {
   "cell_type": "markdown",
   "metadata": {},
   "source": [
    "Подключим необходимые модули"
   ]
  },
  {
   "cell_type": "code",
   "execution_count": 1,
   "metadata": {},
   "outputs": [],
   "source": [
    "import pandas as pd\n",
    "import numpy as np\n",
    "import os\n",
    "from sklearn.metrics import mean_absolute_error, make_scorer\n",
    "import matplotlib.pyplot as plt\n",
    "from sklearn.preprocessing import StandardScaler\n",
    "import seaborn as sns\n",
    "from sklearn.model_selection import train_test_split, cross_val_score\n",
    "from sklearn.linear_model import LinearRegression\n",
    "from sklearn.ensemble import RandomForestRegressor\n",
    "from sklearn.model_selection import GridSearchCV"
   ]
  },
  {
   "cell_type": "markdown",
   "metadata": {},
   "source": [
    "### 1.1 Открытие файлов и изучение:"
   ]
  },
  {
   "cell_type": "code",
   "execution_count": 2,
   "metadata": {},
   "outputs": [],
   "source": [
    "# этот блок добавлен, потому что выполнял на ПК Windows, чтобы не ошибиться и не переписывать для работы на серере\n",
    "path_data_train = os.path.normpath('datasets/gold_recovery_train.csv')\n",
    "path_data_test = os.path.normpath('datasets/gold_recovery_test.csv')\n",
    "path_data_full = os.path.normpath('datasets/gold_recovery_full.csv')"
   ]
  },
  {
   "cell_type": "markdown",
   "metadata": {},
   "source": [
    "Откроем тренировочные данные:"
   ]
  },
  {
   "cell_type": "code",
   "execution_count": 3,
   "metadata": {
    "scrolled": false
   },
   "outputs": [
    {
     "name": "stdout",
     "output_type": "stream",
     "text": [
      "<class 'pandas.core.frame.DataFrame'>\n",
      "RangeIndex: 16860 entries, 0 to 16859\n",
      "Data columns (total 87 columns):\n",
      "date                                                  16860 non-null object\n",
      "final.output.concentrate_ag                           16788 non-null float64\n",
      "final.output.concentrate_pb                           16788 non-null float64\n",
      "final.output.concentrate_sol                          16490 non-null float64\n",
      "final.output.concentrate_au                           16789 non-null float64\n",
      "final.output.recovery                                 15339 non-null float64\n",
      "final.output.tail_ag                                  16794 non-null float64\n",
      "final.output.tail_pb                                  16677 non-null float64\n",
      "final.output.tail_sol                                 16715 non-null float64\n",
      "final.output.tail_au                                  16794 non-null float64\n",
      "primary_cleaner.input.sulfate                         15553 non-null float64\n",
      "primary_cleaner.input.depressant                      15598 non-null float64\n",
      "primary_cleaner.input.feed_size                       16860 non-null float64\n",
      "primary_cleaner.input.xanthate                        15875 non-null float64\n",
      "primary_cleaner.output.concentrate_ag                 16778 non-null float64\n",
      "primary_cleaner.output.concentrate_pb                 16502 non-null float64\n",
      "primary_cleaner.output.concentrate_sol                16224 non-null float64\n",
      "primary_cleaner.output.concentrate_au                 16778 non-null float64\n",
      "primary_cleaner.output.tail_ag                        16777 non-null float64\n",
      "primary_cleaner.output.tail_pb                        16761 non-null float64\n",
      "primary_cleaner.output.tail_sol                       16579 non-null float64\n",
      "primary_cleaner.output.tail_au                        16777 non-null float64\n",
      "primary_cleaner.state.floatbank8_a_air                16820 non-null float64\n",
      "primary_cleaner.state.floatbank8_a_level              16827 non-null float64\n",
      "primary_cleaner.state.floatbank8_b_air                16820 non-null float64\n",
      "primary_cleaner.state.floatbank8_b_level              16833 non-null float64\n",
      "primary_cleaner.state.floatbank8_c_air                16822 non-null float64\n",
      "primary_cleaner.state.floatbank8_c_level              16833 non-null float64\n",
      "primary_cleaner.state.floatbank8_d_air                16821 non-null float64\n",
      "primary_cleaner.state.floatbank8_d_level              16833 non-null float64\n",
      "rougher.calculation.sulfate_to_au_concentrate         16833 non-null float64\n",
      "rougher.calculation.floatbank10_sulfate_to_au_feed    16833 non-null float64\n",
      "rougher.calculation.floatbank11_sulfate_to_au_feed    16833 non-null float64\n",
      "rougher.calculation.au_pb_ratio                       15618 non-null float64\n",
      "rougher.input.feed_ag                                 16778 non-null float64\n",
      "rougher.input.feed_pb                                 16632 non-null float64\n",
      "rougher.input.feed_rate                               16347 non-null float64\n",
      "rougher.input.feed_size                               16443 non-null float64\n",
      "rougher.input.feed_sol                                16568 non-null float64\n",
      "rougher.input.feed_au                                 16777 non-null float64\n",
      "rougher.input.floatbank10_sulfate                     15816 non-null float64\n",
      "rougher.input.floatbank10_xanthate                    16514 non-null float64\n",
      "rougher.input.floatbank11_sulfate                     16237 non-null float64\n",
      "rougher.input.floatbank11_xanthate                    14956 non-null float64\n",
      "rougher.output.concentrate_ag                         16778 non-null float64\n",
      "rougher.output.concentrate_pb                         16778 non-null float64\n",
      "rougher.output.concentrate_sol                        16698 non-null float64\n",
      "rougher.output.concentrate_au                         16778 non-null float64\n",
      "rougher.output.recovery                               14287 non-null float64\n",
      "rougher.output.tail_ag                                14610 non-null float64\n",
      "rougher.output.tail_pb                                16778 non-null float64\n",
      "rougher.output.tail_sol                               14611 non-null float64\n",
      "rougher.output.tail_au                                14611 non-null float64\n",
      "rougher.state.floatbank10_a_air                       16807 non-null float64\n",
      "rougher.state.floatbank10_a_level                     16807 non-null float64\n",
      "rougher.state.floatbank10_b_air                       16807 non-null float64\n",
      "rougher.state.floatbank10_b_level                     16807 non-null float64\n",
      "rougher.state.floatbank10_c_air                       16807 non-null float64\n",
      "rougher.state.floatbank10_c_level                     16814 non-null float64\n",
      "rougher.state.floatbank10_d_air                       16802 non-null float64\n",
      "rougher.state.floatbank10_d_level                     16809 non-null float64\n",
      "rougher.state.floatbank10_e_air                       16257 non-null float64\n",
      "rougher.state.floatbank10_e_level                     16809 non-null float64\n",
      "rougher.state.floatbank10_f_air                       16802 non-null float64\n",
      "rougher.state.floatbank10_f_level                     16802 non-null float64\n",
      "secondary_cleaner.output.tail_ag                      16776 non-null float64\n",
      "secondary_cleaner.output.tail_pb                      16764 non-null float64\n",
      "secondary_cleaner.output.tail_sol                     14874 non-null float64\n",
      "secondary_cleaner.output.tail_au                      16778 non-null float64\n",
      "secondary_cleaner.state.floatbank2_a_air              16497 non-null float64\n",
      "secondary_cleaner.state.floatbank2_a_level            16751 non-null float64\n",
      "secondary_cleaner.state.floatbank2_b_air              16705 non-null float64\n",
      "secondary_cleaner.state.floatbank2_b_level            16748 non-null float64\n",
      "secondary_cleaner.state.floatbank3_a_air              16763 non-null float64\n",
      "secondary_cleaner.state.floatbank3_a_level            16747 non-null float64\n",
      "secondary_cleaner.state.floatbank3_b_air              16752 non-null float64\n",
      "secondary_cleaner.state.floatbank3_b_level            16750 non-null float64\n",
      "secondary_cleaner.state.floatbank4_a_air              16731 non-null float64\n",
      "secondary_cleaner.state.floatbank4_a_level            16747 non-null float64\n",
      "secondary_cleaner.state.floatbank4_b_air              16768 non-null float64\n",
      "secondary_cleaner.state.floatbank4_b_level            16767 non-null float64\n",
      "secondary_cleaner.state.floatbank5_a_air              16775 non-null float64\n",
      "secondary_cleaner.state.floatbank5_a_level            16775 non-null float64\n",
      "secondary_cleaner.state.floatbank5_b_air              16775 non-null float64\n",
      "secondary_cleaner.state.floatbank5_b_level            16776 non-null float64\n",
      "secondary_cleaner.state.floatbank6_a_air              16757 non-null float64\n",
      "secondary_cleaner.state.floatbank6_a_level            16775 non-null float64\n",
      "dtypes: float64(86), object(1)\n",
      "memory usage: 11.2+ MB\n"
     ]
    }
   ],
   "source": [
    "data_train = pd.read_csv(path_data_train)\n",
    "data_train.info()"
   ]
  },
  {
   "cell_type": "markdown",
   "metadata": {},
   "source": [
    "Откроем тестовые данные:"
   ]
  },
  {
   "cell_type": "code",
   "execution_count": 4,
   "metadata": {},
   "outputs": [
    {
     "name": "stdout",
     "output_type": "stream",
     "text": [
      "<class 'pandas.core.frame.DataFrame'>\n",
      "RangeIndex: 5856 entries, 0 to 5855\n",
      "Data columns (total 53 columns):\n",
      "date                                          5856 non-null object\n",
      "primary_cleaner.input.sulfate                 5554 non-null float64\n",
      "primary_cleaner.input.depressant              5572 non-null float64\n",
      "primary_cleaner.input.feed_size               5856 non-null float64\n",
      "primary_cleaner.input.xanthate                5690 non-null float64\n",
      "primary_cleaner.state.floatbank8_a_air        5840 non-null float64\n",
      "primary_cleaner.state.floatbank8_a_level      5840 non-null float64\n",
      "primary_cleaner.state.floatbank8_b_air        5840 non-null float64\n",
      "primary_cleaner.state.floatbank8_b_level      5840 non-null float64\n",
      "primary_cleaner.state.floatbank8_c_air        5840 non-null float64\n",
      "primary_cleaner.state.floatbank8_c_level      5840 non-null float64\n",
      "primary_cleaner.state.floatbank8_d_air        5840 non-null float64\n",
      "primary_cleaner.state.floatbank8_d_level      5840 non-null float64\n",
      "rougher.input.feed_ag                         5840 non-null float64\n",
      "rougher.input.feed_pb                         5840 non-null float64\n",
      "rougher.input.feed_rate                       5816 non-null float64\n",
      "rougher.input.feed_size                       5834 non-null float64\n",
      "rougher.input.feed_sol                        5789 non-null float64\n",
      "rougher.input.feed_au                         5840 non-null float64\n",
      "rougher.input.floatbank10_sulfate             5599 non-null float64\n",
      "rougher.input.floatbank10_xanthate            5733 non-null float64\n",
      "rougher.input.floatbank11_sulfate             5801 non-null float64\n",
      "rougher.input.floatbank11_xanthate            5503 non-null float64\n",
      "rougher.state.floatbank10_a_air               5839 non-null float64\n",
      "rougher.state.floatbank10_a_level             5840 non-null float64\n",
      "rougher.state.floatbank10_b_air               5839 non-null float64\n",
      "rougher.state.floatbank10_b_level             5840 non-null float64\n",
      "rougher.state.floatbank10_c_air               5839 non-null float64\n",
      "rougher.state.floatbank10_c_level             5840 non-null float64\n",
      "rougher.state.floatbank10_d_air               5839 non-null float64\n",
      "rougher.state.floatbank10_d_level             5840 non-null float64\n",
      "rougher.state.floatbank10_e_air               5839 non-null float64\n",
      "rougher.state.floatbank10_e_level             5840 non-null float64\n",
      "rougher.state.floatbank10_f_air               5839 non-null float64\n",
      "rougher.state.floatbank10_f_level             5840 non-null float64\n",
      "secondary_cleaner.state.floatbank2_a_air      5836 non-null float64\n",
      "secondary_cleaner.state.floatbank2_a_level    5840 non-null float64\n",
      "secondary_cleaner.state.floatbank2_b_air      5833 non-null float64\n",
      "secondary_cleaner.state.floatbank2_b_level    5840 non-null float64\n",
      "secondary_cleaner.state.floatbank3_a_air      5822 non-null float64\n",
      "secondary_cleaner.state.floatbank3_a_level    5840 non-null float64\n",
      "secondary_cleaner.state.floatbank3_b_air      5840 non-null float64\n",
      "secondary_cleaner.state.floatbank3_b_level    5840 non-null float64\n",
      "secondary_cleaner.state.floatbank4_a_air      5840 non-null float64\n",
      "secondary_cleaner.state.floatbank4_a_level    5840 non-null float64\n",
      "secondary_cleaner.state.floatbank4_b_air      5840 non-null float64\n",
      "secondary_cleaner.state.floatbank4_b_level    5840 non-null float64\n",
      "secondary_cleaner.state.floatbank5_a_air      5840 non-null float64\n",
      "secondary_cleaner.state.floatbank5_a_level    5840 non-null float64\n",
      "secondary_cleaner.state.floatbank5_b_air      5840 non-null float64\n",
      "secondary_cleaner.state.floatbank5_b_level    5840 non-null float64\n",
      "secondary_cleaner.state.floatbank6_a_air      5840 non-null float64\n",
      "secondary_cleaner.state.floatbank6_a_level    5840 non-null float64\n",
      "dtypes: float64(52), object(1)\n",
      "memory usage: 2.4+ MB\n"
     ]
    }
   ],
   "source": [
    "data_test = pd.read_csv(path_data_test)\n",
    "data_test.info()"
   ]
  },
  {
   "cell_type": "markdown",
   "metadata": {},
   "source": [
    "Откроем полные данные:"
   ]
  },
  {
   "cell_type": "code",
   "execution_count": 5,
   "metadata": {},
   "outputs": [
    {
     "name": "stdout",
     "output_type": "stream",
     "text": [
      "<class 'pandas.core.frame.DataFrame'>\n",
      "RangeIndex: 22716 entries, 0 to 22715\n",
      "Data columns (total 87 columns):\n",
      "date                                                  22716 non-null object\n",
      "final.output.concentrate_ag                           22627 non-null float64\n",
      "final.output.concentrate_pb                           22629 non-null float64\n",
      "final.output.concentrate_sol                          22331 non-null float64\n",
      "final.output.concentrate_au                           22630 non-null float64\n",
      "final.output.recovery                                 20753 non-null float64\n",
      "final.output.tail_ag                                  22633 non-null float64\n",
      "final.output.tail_pb                                  22516 non-null float64\n",
      "final.output.tail_sol                                 22445 non-null float64\n",
      "final.output.tail_au                                  22635 non-null float64\n",
      "primary_cleaner.input.sulfate                         21107 non-null float64\n",
      "primary_cleaner.input.depressant                      21170 non-null float64\n",
      "primary_cleaner.input.feed_size                       22716 non-null float64\n",
      "primary_cleaner.input.xanthate                        21565 non-null float64\n",
      "primary_cleaner.output.concentrate_ag                 22618 non-null float64\n",
      "primary_cleaner.output.concentrate_pb                 22268 non-null float64\n",
      "primary_cleaner.output.concentrate_sol                21918 non-null float64\n",
      "primary_cleaner.output.concentrate_au                 22618 non-null float64\n",
      "primary_cleaner.output.tail_ag                        22614 non-null float64\n",
      "primary_cleaner.output.tail_pb                        22594 non-null float64\n",
      "primary_cleaner.output.tail_sol                       22365 non-null float64\n",
      "primary_cleaner.output.tail_au                        22617 non-null float64\n",
      "primary_cleaner.state.floatbank8_a_air                22660 non-null float64\n",
      "primary_cleaner.state.floatbank8_a_level              22667 non-null float64\n",
      "primary_cleaner.state.floatbank8_b_air                22660 non-null float64\n",
      "primary_cleaner.state.floatbank8_b_level              22673 non-null float64\n",
      "primary_cleaner.state.floatbank8_c_air                22662 non-null float64\n",
      "primary_cleaner.state.floatbank8_c_level              22673 non-null float64\n",
      "primary_cleaner.state.floatbank8_d_air                22661 non-null float64\n",
      "primary_cleaner.state.floatbank8_d_level              22673 non-null float64\n",
      "rougher.calculation.sulfate_to_au_concentrate         22672 non-null float64\n",
      "rougher.calculation.floatbank10_sulfate_to_au_feed    22672 non-null float64\n",
      "rougher.calculation.floatbank11_sulfate_to_au_feed    22672 non-null float64\n",
      "rougher.calculation.au_pb_ratio                       21089 non-null float64\n",
      "rougher.input.feed_ag                                 22618 non-null float64\n",
      "rougher.input.feed_pb                                 22472 non-null float64\n",
      "rougher.input.feed_rate                               22163 non-null float64\n",
      "rougher.input.feed_size                               22277 non-null float64\n",
      "rougher.input.feed_sol                                22357 non-null float64\n",
      "rougher.input.feed_au                                 22617 non-null float64\n",
      "rougher.input.floatbank10_sulfate                     21415 non-null float64\n",
      "rougher.input.floatbank10_xanthate                    22247 non-null float64\n",
      "rougher.input.floatbank11_sulfate                     22038 non-null float64\n",
      "rougher.input.floatbank11_xanthate                    20459 non-null float64\n",
      "rougher.output.concentrate_ag                         22618 non-null float64\n",
      "rougher.output.concentrate_pb                         22618 non-null float64\n",
      "rougher.output.concentrate_sol                        22526 non-null float64\n",
      "rougher.output.concentrate_au                         22618 non-null float64\n",
      "rougher.output.recovery                               19597 non-null float64\n",
      "rougher.output.tail_ag                                19979 non-null float64\n",
      "rougher.output.tail_pb                                22618 non-null float64\n",
      "rougher.output.tail_sol                               19980 non-null float64\n",
      "rougher.output.tail_au                                19980 non-null float64\n",
      "rougher.state.floatbank10_a_air                       22646 non-null float64\n",
      "rougher.state.floatbank10_a_level                     22647 non-null float64\n",
      "rougher.state.floatbank10_b_air                       22646 non-null float64\n",
      "rougher.state.floatbank10_b_level                     22647 non-null float64\n",
      "rougher.state.floatbank10_c_air                       22646 non-null float64\n",
      "rougher.state.floatbank10_c_level                     22654 non-null float64\n",
      "rougher.state.floatbank10_d_air                       22641 non-null float64\n",
      "rougher.state.floatbank10_d_level                     22649 non-null float64\n",
      "rougher.state.floatbank10_e_air                       22096 non-null float64\n",
      "rougher.state.floatbank10_e_level                     22649 non-null float64\n",
      "rougher.state.floatbank10_f_air                       22641 non-null float64\n",
      "rougher.state.floatbank10_f_level                     22642 non-null float64\n",
      "secondary_cleaner.output.tail_ag                      22616 non-null float64\n",
      "secondary_cleaner.output.tail_pb                      22600 non-null float64\n",
      "secondary_cleaner.output.tail_sol                     20501 non-null float64\n",
      "secondary_cleaner.output.tail_au                      22618 non-null float64\n",
      "secondary_cleaner.state.floatbank2_a_air              22333 non-null float64\n",
      "secondary_cleaner.state.floatbank2_a_level            22591 non-null float64\n",
      "secondary_cleaner.state.floatbank2_b_air              22538 non-null float64\n",
      "secondary_cleaner.state.floatbank2_b_level            22588 non-null float64\n",
      "secondary_cleaner.state.floatbank3_a_air              22585 non-null float64\n",
      "secondary_cleaner.state.floatbank3_a_level            22587 non-null float64\n",
      "secondary_cleaner.state.floatbank3_b_air              22592 non-null float64\n",
      "secondary_cleaner.state.floatbank3_b_level            22590 non-null float64\n",
      "secondary_cleaner.state.floatbank4_a_air              22571 non-null float64\n",
      "secondary_cleaner.state.floatbank4_a_level            22587 non-null float64\n",
      "secondary_cleaner.state.floatbank4_b_air              22608 non-null float64\n",
      "secondary_cleaner.state.floatbank4_b_level            22607 non-null float64\n",
      "secondary_cleaner.state.floatbank5_a_air              22615 non-null float64\n",
      "secondary_cleaner.state.floatbank5_a_level            22615 non-null float64\n",
      "secondary_cleaner.state.floatbank5_b_air              22615 non-null float64\n",
      "secondary_cleaner.state.floatbank5_b_level            22616 non-null float64\n",
      "secondary_cleaner.state.floatbank6_a_air              22597 non-null float64\n",
      "secondary_cleaner.state.floatbank6_a_level            22615 non-null float64\n",
      "dtypes: float64(86), object(1)\n",
      "memory usage: 15.1+ MB\n"
     ]
    }
   ],
   "source": [
    "data_full = pd.read_csv(path_data_full)\n",
    "data_full.info()"
   ]
  },
  {
   "cell_type": "code",
   "execution_count": 6,
   "metadata": {},
   "outputs": [
    {
     "name": "stdout",
     "output_type": "stream",
     "text": [
      "Всего объектов: 22716 шт. Из них в тренировочной выборке: 5856 шт. и в тестовой 5856 шт.\n"
     ]
    }
   ],
   "source": [
    "print('Всего объектов: {:} шт. Из них в тренировочной выборке: {:} шт. и в тестовой {:} шт.'.format(data_full.shape[0], data_test.shape[0], data_test.shape[0]))"
   ]
  },
  {
   "cell_type": "markdown",
   "metadata": {},
   "source": [
    "Данные имеют пропуски."
   ]
  },
  {
   "cell_type": "markdown",
   "metadata": {},
   "source": [
    "Данные содержат много признаков. Индексом является дата. <br>\n",
    "Наименование признаков содержит имеет вид: этап.тип-параметра.название-параметра <br>\n",
    "Возможные значения для *этап*:\n",
    "- rougher — флотация\n",
    "- primary_cleaner — первичная очистка\n",
    "- secondary_cleaner — вторичная очистка\n",
    "- final — финальные характеристики\n",
    "\n",
    "Возможные значения для *тип-параметра*:\n",
    "- input — параметры сырья\n",
    "- output — параметры продукта\n",
    "- state — параметры, характеризующие текущее состояние этапа\n",
    "- calculation — расчётные характеристики\n",
    "\n"
   ]
  },
  {
   "cell_type": "markdown",
   "metadata": {},
   "source": [
    "### 1.2 Проверка правильности расчёта эффективности обогащения"
   ]
  },
  {
   "cell_type": "markdown",
   "metadata": {},
   "source": [
    "Вычислим эффективность обогащения на обучающей выборке для признака чернового сырья и финального концентрата. Найдём MAE между расчётными значениями и значением признака."
   ]
  },
  {
   "cell_type": "markdown",
   "metadata": {},
   "source": [
    "Для расчёта recovery напишем функцию, которая принимает 3 аргумента:\n",
    "- C — доля золота в концентрате после флотации/очистки;\n",
    "- F — доля золота в сырье/концентрате до флотации/очистки;\n",
    "- T — доля золота в отвальных хвостах после флотации/очистки; \n",
    "\n",
    "и возвращает значение эффективности обогащения в процентах:"
   ]
  },
  {
   "cell_type": "code",
   "execution_count": 7,
   "metadata": {},
   "outputs": [],
   "source": [
    "def recovery_calc(c, f, t):\n",
    "    return (c * (f - t)) / (f * (c - t)) * 100"
   ]
  },
  {
   "cell_type": "code",
   "execution_count": 8,
   "metadata": {},
   "outputs": [],
   "source": [
    "data_train['rougher.calculation.recovery'] = recovery_calc(\n",
    "    c=data_train['rougher.output.concentrate_au'],\n",
    "    f=data_train['rougher.input.feed_au'],\n",
    "    t=data_train['rougher.output.tail_au'])"
   ]
  },
  {
   "cell_type": "code",
   "execution_count": 9,
   "metadata": {},
   "outputs": [
    {
     "name": "stdout",
     "output_type": "stream",
     "text": [
      "Значение среднего абсолютного отклонения (MAE) для вычисленного признака эффективности обогащения чернового концентрата для обучающей выборки: 9.66e-15 %\n"
     ]
    }
   ],
   "source": [
    "print('Значение среднего абсолютного отклонения (MAE) для вычисленного признака эффективности обогащения чернового концентрата для обучающей выборки: {:.3} %'.format(mean_absolute_error(\n",
    "    data_train[(data_train['rougher.output.recovery'] > 0) & (data_train['rougher.calculation.recovery'] > 0)]['rougher.output.recovery'], \n",
    "    data_train[(data_train['rougher.output.recovery'] > 0) & (data_train['rougher.calculation.recovery'] > 0)]['rougher.calculation.recovery'])))"
   ]
  },
  {
   "cell_type": "markdown",
   "metadata": {},
   "source": [
    "Судя по малой величине MAE, значение эффективности обогащения в выборке посчитано верно."
   ]
  },
  {
   "cell_type": "markdown",
   "metadata": {},
   "source": [
    "Проведём аналогичные действия для расчёта эффективности обогащения финального концентрата:"
   ]
  },
  {
   "cell_type": "code",
   "execution_count": 10,
   "metadata": {},
   "outputs": [],
   "source": [
    "data_train['final.calculation.recovery'] = recovery_calc(\n",
    "    c=data_train['final.output.concentrate_au'],\n",
    "    f=data_train['rougher.input.feed_au'],\n",
    "    t=data_train['final.output.tail_au'])"
   ]
  },
  {
   "cell_type": "code",
   "execution_count": 11,
   "metadata": {},
   "outputs": [
    {
     "name": "stdout",
     "output_type": "stream",
     "text": [
      "Значение среднего абсолютного отклонения (MAE) для вычисленного признака эффективности обогащения финального концентрата для обучающей выборки: 8.21e-15 %\n"
     ]
    }
   ],
   "source": [
    "print('Значение среднего абсолютного отклонения (MAE) для вычисленного признака эффективности обогащения финального концентрата для обучающей выборки: {:.3} %'.format(\n",
    "    mean_absolute_error(data_train[(data_train['final.output.recovery'] > 0) & (data_train['final.calculation.recovery'] > 0)]['final.output.recovery'], \n",
    "    data_train[(data_train['final.output.recovery'] > 0) & (data_train['final.calculation.recovery'] > 0)]['final.calculation.recovery'])))"
   ]
  },
  {
   "cell_type": "markdown",
   "metadata": {},
   "source": [
    "### 1.3 Анализ признаков, недоступных в тестовой выборке"
   ]
  },
  {
   "cell_type": "code",
   "execution_count": 12,
   "metadata": {},
   "outputs": [
    {
     "name": "stdout",
     "output_type": "stream",
     "text": [
      "В тестовой выборке отсутствуют следующие признаки:\n",
      "\n",
      "final.output.tail_sol\n",
      "rougher.output.tail_au\n",
      "primary_cleaner.output.tail_au\n",
      "secondary_cleaner.output.tail_ag\n",
      "rougher.output.recovery\n",
      "rougher.output.concentrate_au\n",
      "final.output.concentrate_ag\n",
      "final.output.recovery\n",
      "rougher.calculation.recovery\n",
      "primary_cleaner.output.concentrate_au\n",
      "rougher.output.concentrate_ag\n",
      "rougher.output.tail_sol\n",
      "rougher.calculation.floatbank10_sulfate_to_au_feed\n",
      "final.output.concentrate_pb\n",
      "rougher.output.concentrate_pb\n",
      "rougher.calculation.au_pb_ratio\n",
      "primary_cleaner.output.tail_pb\n",
      "rougher.output.concentrate_sol\n",
      "rougher.output.tail_ag\n",
      "secondary_cleaner.output.tail_sol\n",
      "primary_cleaner.output.concentrate_pb\n",
      "final.calculation.recovery\n",
      "final.output.tail_au\n",
      "final.output.concentrate_au\n",
      "rougher.calculation.floatbank11_sulfate_to_au_feed\n",
      "secondary_cleaner.output.tail_au\n",
      "primary_cleaner.output.concentrate_ag\n",
      "primary_cleaner.output.tail_sol\n",
      "final.output.tail_pb\n",
      "final.output.tail_ag\n",
      "primary_cleaner.output.tail_ag\n",
      "rougher.calculation.sulfate_to_au_concentrate\n",
      "primary_cleaner.output.concentrate_sol\n",
      "final.output.concentrate_sol\n",
      "rougher.output.tail_pb\n",
      "secondary_cleaner.output.tail_pb\n"
     ]
    }
   ],
   "source": [
    "print('В тестовой выборке отсутствуют следующие признаки:\\n')\n",
    "missing_features = list(set(data_train)^set(data_test))\n",
    "for i in missing_features:\n",
    "    print(i)"
   ]
  },
  {
   "cell_type": "markdown",
   "metadata": {},
   "source": [
    "Из вышеприведённого анализа видно, что в тестовых данных отсутствуют параметры продукта и расчётные характеристики. <br>\n"
   ]
  },
  {
   "cell_type": "markdown",
   "metadata": {},
   "source": [
    "### 1.4 Предобработка данных"
   ]
  },
  {
   "cell_type": "markdown",
   "metadata": {},
   "source": [
    "Напишем функцию фильтрации выбросов <br>\n",
    "На вход она принимает признак, возвращает признак выброса. <br>\n",
    "Выбросом будут считаться значения больше 3 квартили плюс 1.5 межквартильных размаха и меньше 1 квартили минус 1.5 межквартильных размаха"
   ]
  },
  {
   "cell_type": "code",
   "execution_count": 13,
   "metadata": {},
   "outputs": [],
   "source": [
    "def filtering_outliers(data):\n",
    "    iqr = data.quantile(q=0.75) - data.quantile(q=0.25)\n",
    "    max = 1.5 * iqr + data.quantile(q=0.75)\n",
    "    min = data.quantile(q=0.25) - 1.5 * iqr\n",
    "    return (data < min) | (data > max)"
   ]
  },
  {
   "cell_type": "markdown",
   "metadata": {},
   "source": [
    "Напишем функцию для замен пропущенных значений и выбросов на расчётные <br>\n",
    "На вход она принимает строку, имя целевого столбца, имя столбца с признаком выброса и имя столбца с расчётным значением:"
   ]
  },
  {
   "cell_type": "code",
   "execution_count": 14,
   "metadata": {},
   "outputs": [],
   "source": [
    "def replace_to_calculate(row, target, discharge, calc):\n",
    "    if row[discharge] | ~(row[target]>0):\n",
    "        return row[calc]\n",
    "    else:\n",
    "        return row[target]"
   ]
  },
  {
   "cell_type": "markdown",
   "metadata": {},
   "source": [
    "Напишем функцию для замены всех пропущенных значений средним:"
   ]
  },
  {
   "cell_type": "code",
   "execution_count": 15,
   "metadata": {},
   "outputs": [],
   "source": [
    "def fillna_to_mean(data):\n",
    "    for feature in list(data)[1:]:\n",
    "        data[feature] = data[feature].fillna(data[feature].mean())\n",
    "    return data"
   ]
  },
  {
   "cell_type": "markdown",
   "metadata": {},
   "source": [
    "Напишем функцию для замены всех пропущенных значений соседними по времени:"
   ]
  },
  {
   "cell_type": "code",
   "execution_count": 16,
   "metadata": {},
   "outputs": [],
   "source": [
    "def fillna_to_neighbour(data):\n",
    "    sort_save = data['date']\n",
    "    data = data.sort_values('date').reset_index(drop=True)\n",
    "    for feature in list(data)[1:]:\n",
    "        col = data[feature]\n",
    "        passes = col.isnull()\n",
    "        passes = passes[passes == True]  # нашли пропущенные значения и их индексы\n",
    "        passes_ind = list(passes.index) # нашли индексы пропущенных значений\n",
    "        for p in passes_ind:  # итерируемся по индексам пропущенных значений\n",
    "            ind_less=0\n",
    "            ind_more=np.array(list(col.index)).max()\n",
    "            for i in range(p-1, 0, -1):  # находим индекс ближайшего известного меньше\n",
    "                if i not in passes_ind:\n",
    "                    ind_less = i\n",
    "                    break\n",
    "            for i in range(p+1, ind_more):  # находим индекс ближайшего известного больше\n",
    "                if i not in passes_ind:\n",
    "                    ind_more = i\n",
    "                    break\n",
    "            val_less = col[ind_less]  # находим ближайшее значение с меньшим индексом\n",
    "            val_more = col[ind_more]  # находм ближайшее значение с большим индесом\n",
    "            val_replace =  ((val_more - val_less) / (ind_more - ind_less)) * (p - ind_less) + val_less\n",
    "            col.loc[p] = val_replace\n",
    "        data[feature] = col\n",
    "    return pd.merge(left=sort_save, right=data, on='date')"
   ]
  },
  {
   "cell_type": "markdown",
   "metadata": {},
   "source": [
    "Для начала удалим из тестовых даннх объекты, не имеющие признаков (или имеющие некорректные), без которых, мы не сможем рассчитать целевой признак:"
   ]
  },
  {
   "cell_type": "code",
   "execution_count": 17,
   "metadata": {},
   "outputs": [
    {
     "data": {
      "image/png": "[encoded data removed]",
      "text/plain": [
       "<Figure size 360x360 with 1 Axes>"
      ]
     },
     "metadata": {
      "needs_background": "light"
     },
     "output_type": "display_data"
    }
   ],
   "source": [
    "data_train.boxplot('final.output.recovery', figsize=(5,5));"
   ]
  },
  {
   "cell_type": "code",
   "execution_count": 18,
   "metadata": {},
   "outputs": [
    {
     "data": {
      "image/png": "[encoded data removed]",
      "text/plain": [
       "<Figure size 432x288 with 1 Axes>"
      ]
     },
     "metadata": {
      "needs_background": "light"
     },
     "output_type": "display_data"
    }
   ],
   "source": [
    "data_train['final.output.recovery'].hist(bins=100);"
   ]
  },
  {
   "cell_type": "code",
   "execution_count": 19,
   "metadata": {
    "scrolled": true
   },
   "outputs": [
    {
     "data": {
      "text/plain": [
       "count    15339.000000\n",
       "mean        67.213166\n",
       "std         11.960446\n",
       "min          0.000000\n",
       "25%         62.625685\n",
       "50%         67.644601\n",
       "75%         72.824595\n",
       "max        100.000000\n",
       "Name: final.output.recovery, dtype: float64"
      ]
     },
     "execution_count": 19,
     "metadata": {},
     "output_type": "execute_result"
    }
   ],
   "source": [
    "data_train['final.output.recovery'].describe()"
   ]
  },
  {
   "cell_type": "markdown",
   "metadata": {},
   "source": [
    "Пометим выбросы признака *final.output.recovery* и заменим их и пропущенные значения на расчётные:"
   ]
  },
  {
   "cell_type": "markdown",
   "metadata": {},
   "source": [
    "Определим признаки *final.output.recovery*, которые являются выбросами"
   ]
  },
  {
   "cell_type": "code",
   "execution_count": 20,
   "metadata": {},
   "outputs": [],
   "source": [
    "data_train['final.output.recovery_discharge'] = filtering_outliers(data_train['final.output.recovery'])"
   ]
  },
  {
   "cell_type": "markdown",
   "metadata": {},
   "source": [
    "Заменим признаки *final.output.recovery*, которые являются выбросами на правильно рассчитанные значения"
   ]
  },
  {
   "cell_type": "code",
   "execution_count": 21,
   "metadata": {},
   "outputs": [],
   "source": [
    "data_train['final.output.recovery'] = data_train.apply(replace_to_calculate, axis=1, args=('final.output.recovery', 'final.output.recovery_discharge', 'final.calculation.recovery'))"
   ]
  },
  {
   "cell_type": "markdown",
   "metadata": {},
   "source": [
    "Удалим ненужные столбцы - с признаком выбросов и расчётным значением"
   ]
  },
  {
   "cell_type": "code",
   "execution_count": 22,
   "metadata": {},
   "outputs": [],
   "source": [
    "data_train = data_train.drop(['final.output.recovery_discharge', 'final.calculation.recovery'], axis=1)"
   ]
  },
  {
   "cell_type": "markdown",
   "metadata": {},
   "source": [
    "Удалим объекты, признак которых не удалось восстановить:"
   ]
  },
  {
   "cell_type": "code",
   "execution_count": 23,
   "metadata": {},
   "outputs": [],
   "source": [
    "data_train = data_train.dropna(subset=['final.output.recovery'], axis='rows')"
   ]
  },
  {
   "cell_type": "markdown",
   "metadata": {},
   "source": [
    "Среди новых данных найдём выбросы:"
   ]
  },
  {
   "cell_type": "code",
   "execution_count": 24,
   "metadata": {
    "scrolled": true
   },
   "outputs": [],
   "source": [
    "data_train['final.output.recovery_discharge'] = filtering_outliers(data_train['final.output.recovery'])"
   ]
  },
  {
   "cell_type": "markdown",
   "metadata": {},
   "source": [
    "Удалим выбросы и ненужный признак выбросов:"
   ]
  },
  {
   "cell_type": "code",
   "execution_count": 25,
   "metadata": {},
   "outputs": [],
   "source": [
    "data_train = data_train[data_train['final.output.recovery_discharge'] == False]"
   ]
  },
  {
   "cell_type": "code",
   "execution_count": 26,
   "metadata": {},
   "outputs": [],
   "source": [
    "data_train = data_train.drop(['final.output.recovery_discharge'], axis=1)"
   ]
  },
  {
   "cell_type": "markdown",
   "metadata": {},
   "source": [
    "Оценим результаты обработки:"
   ]
  },
  {
   "cell_type": "code",
   "execution_count": 27,
   "metadata": {},
   "outputs": [
    {
     "data": {
      "image/png": "[encoded data removed]",
      "text/plain": [
       "<Figure size 360x360 with 1 Axes>"
      ]
     },
     "metadata": {
      "needs_background": "light"
     },
     "output_type": "display_data"
    }
   ],
   "source": [
    "data_train.boxplot('final.output.recovery', figsize=(5,5));"
   ]
  },
  {
   "cell_type": "code",
   "execution_count": 28,
   "metadata": {},
   "outputs": [
    {
     "data": {
      "image/png": "[encoded data removed]",
      "text/plain": [
       "<Figure size 432x288 with 1 Axes>"
      ]
     },
     "metadata": {
      "needs_background": "light"
     },
     "output_type": "display_data"
    }
   ],
   "source": [
    "data_train['final.output.recovery'].hist(bins=100);"
   ]
  },
  {
   "cell_type": "code",
   "execution_count": 29,
   "metadata": {},
   "outputs": [
    {
     "name": "stdout",
     "output_type": "stream",
     "text": [
      "<class 'pandas.core.frame.DataFrame'>\n",
      "Int64Index: 14198 entries, 0 to 16859\n",
      "Data columns (total 88 columns):\n",
      " #   Column                                              Non-Null Count  Dtype  \n",
      "---  ------                                              --------------  -----  \n",
      " 0   date                                                14198 non-null  object \n",
      " 1   final.output.concentrate_ag                         14197 non-null  float64\n",
      " 2   final.output.concentrate_pb                         14197 non-null  float64\n",
      " 3   final.output.concentrate_sol                        13999 non-null  float64\n",
      " 4   final.output.concentrate_au                         14198 non-null  float64\n",
      " 5   final.output.recovery                               14198 non-null  float64\n",
      " 6   final.output.tail_ag                                14198 non-null  float64\n",
      " 7   final.output.tail_pb                                14121 non-null  float64\n",
      " 8   final.output.tail_sol                               14173 non-null  float64\n",
      " 9   final.output.tail_au                                14198 non-null  float64\n",
      " 10  primary_cleaner.input.sulfate                       14192 non-null  float64\n",
      " 11  primary_cleaner.input.depressant                    14184 non-null  float64\n",
      " 12  primary_cleaner.input.feed_size                     14198 non-null  float64\n",
      " 13  primary_cleaner.input.xanthate                      14111 non-null  float64\n",
      " 14  primary_cleaner.output.concentrate_ag               14198 non-null  float64\n",
      " 15  primary_cleaner.output.concentrate_pb               14127 non-null  float64\n",
      " 16  primary_cleaner.output.concentrate_sol              13950 non-null  float64\n",
      " 17  primary_cleaner.output.concentrate_au               14198 non-null  float64\n",
      " 18  primary_cleaner.output.tail_ag                      14197 non-null  float64\n",
      " 19  primary_cleaner.output.tail_pb                      14183 non-null  float64\n",
      " 20  primary_cleaner.output.tail_sol                     14142 non-null  float64\n",
      " 21  primary_cleaner.output.tail_au                      14198 non-null  float64\n",
      " 22  primary_cleaner.state.floatbank8_a_air              14196 non-null  float64\n",
      " 23  primary_cleaner.state.floatbank8_a_level            14197 non-null  float64\n",
      " 24  primary_cleaner.state.floatbank8_b_air              14196 non-null  float64\n",
      " 25  primary_cleaner.state.floatbank8_b_level            14197 non-null  float64\n",
      " 26  primary_cleaner.state.floatbank8_c_air              14196 non-null  float64\n",
      " 27  primary_cleaner.state.floatbank8_c_level            14197 non-null  float64\n",
      " 28  primary_cleaner.state.floatbank8_d_air              14195 non-null  float64\n",
      " 29  primary_cleaner.state.floatbank8_d_level            14197 non-null  float64\n",
      " 30  rougher.calculation.sulfate_to_au_concentrate       14197 non-null  float64\n",
      " 31  rougher.calculation.floatbank10_sulfate_to_au_feed  14197 non-null  float64\n",
      " 32  rougher.calculation.floatbank11_sulfate_to_au_feed  14197 non-null  float64\n",
      " 33  rougher.calculation.au_pb_ratio                     14198 non-null  float64\n",
      " 34  rougher.input.feed_ag                               14198 non-null  float64\n",
      " 35  rougher.input.feed_pb                               14131 non-null  float64\n",
      " 36  rougher.input.feed_rate                             14193 non-null  float64\n",
      " 37  rougher.input.feed_size                             14063 non-null  float64\n",
      " 38  rougher.input.feed_sol                              14146 non-null  float64\n",
      " 39  rougher.input.feed_au                               14198 non-null  float64\n",
      " 40  rougher.input.floatbank10_sulfate                   14159 non-null  float64\n",
      " 41  rougher.input.floatbank10_xanthate                  14194 non-null  float64\n",
      " 42  rougher.input.floatbank11_sulfate                   14179 non-null  float64\n",
      " 43  rougher.input.floatbank11_xanthate                  13836 non-null  float64\n",
      " 44  rougher.output.concentrate_ag                       14198 non-null  float64\n",
      " 45  rougher.output.concentrate_pb                       14198 non-null  float64\n",
      " 46  rougher.output.concentrate_sol                      14167 non-null  float64\n",
      " 47  rougher.output.concentrate_au                       14198 non-null  float64\n",
      " 48  rougher.output.recovery                             13493 non-null  float64\n",
      " 49  rougher.output.tail_ag                              13693 non-null  float64\n",
      " 50  rougher.output.tail_pb                              14198 non-null  float64\n",
      " 51  rougher.output.tail_sol                             13694 non-null  float64\n",
      " 52  rougher.output.tail_au                              13694 non-null  float64\n",
      " 53  rougher.state.floatbank10_a_air                     14197 non-null  float64\n",
      " 54  rougher.state.floatbank10_a_level                   14197 non-null  float64\n",
      " 55  rougher.state.floatbank10_b_air                     14197 non-null  float64\n",
      " 56  rougher.state.floatbank10_b_level                   14197 non-null  float64\n",
      " 57  rougher.state.floatbank10_c_air                     14197 non-null  float64\n",
      " 58  rougher.state.floatbank10_c_level                   14197 non-null  float64\n",
      " 59  rougher.state.floatbank10_d_air                     14198 non-null  float64\n",
      " 60  rougher.state.floatbank10_d_level                   14198 non-null  float64\n",
      " 61  rougher.state.floatbank10_e_air                     13724 non-null  float64\n",
      " 62  rougher.state.floatbank10_e_level                   14198 non-null  float64\n",
      " 63  rougher.state.floatbank10_f_air                     14198 non-null  float64\n",
      " 64  rougher.state.floatbank10_f_level                   14198 non-null  float64\n",
      " 65  secondary_cleaner.output.tail_ag                    14197 non-null  float64\n",
      " 66  secondary_cleaner.output.tail_pb                    14190 non-null  float64\n",
      " 67  secondary_cleaner.output.tail_sol                   12580 non-null  float64\n",
      " 68  secondary_cleaner.output.tail_au                    14198 non-null  float64\n",
      " 69  secondary_cleaner.state.floatbank2_a_air            13988 non-null  float64\n",
      " 70  secondary_cleaner.state.floatbank2_a_level          14197 non-null  float64\n",
      " 71  secondary_cleaner.state.floatbank2_b_air            14193 non-null  float64\n",
      " 72  secondary_cleaner.state.floatbank2_b_level          14197 non-null  float64\n",
      " 73  secondary_cleaner.state.floatbank3_a_air            14194 non-null  float64\n",
      " 74  secondary_cleaner.state.floatbank3_a_level          14197 non-null  float64\n",
      " 75  secondary_cleaner.state.floatbank3_b_air            14197 non-null  float64\n",
      " 76  secondary_cleaner.state.floatbank3_b_level          14197 non-null  float64\n",
      " 77  secondary_cleaner.state.floatbank4_a_air            14194 non-null  float64\n",
      " 78  secondary_cleaner.state.floatbank4_a_level          14197 non-null  float64\n",
      " 79  secondary_cleaner.state.floatbank4_b_air            14197 non-null  float64\n",
      " 80  secondary_cleaner.state.floatbank4_b_level          14197 non-null  float64\n",
      " 81  secondary_cleaner.state.floatbank5_a_air            14197 non-null  float64\n",
      " 82  secondary_cleaner.state.floatbank5_a_level          14197 non-null  float64\n",
      " 83  secondary_cleaner.state.floatbank5_b_air            14197 non-null  float64\n",
      " 84  secondary_cleaner.state.floatbank5_b_level          14197 non-null  float64\n",
      " 85  secondary_cleaner.state.floatbank6_a_air            14197 non-null  float64\n",
      " 86  secondary_cleaner.state.floatbank6_a_level          14197 non-null  float64\n",
      " 87  rougher.calculation.recovery                        13694 non-null  float64\n",
      "dtypes: float64(87), object(1)\n",
      "memory usage: 9.6+ MB\n"
     ]
    }
   ],
   "source": [
    "data_train.info()"
   ]
  },
  {
   "cell_type": "markdown",
   "metadata": {},
   "source": [
    "Проведём аналогичную обработку для *rougher.output.recovery*:"
   ]
  },
  {
   "cell_type": "code",
   "execution_count": 30,
   "metadata": {},
   "outputs": [
    {
     "data": {
      "image/png": "[encoded data removed]",
      "text/plain": [
       "<Figure size 360x360 with 1 Axes>"
      ]
     },
     "metadata": {
      "needs_background": "light"
     },
     "output_type": "display_data"
    }
   ],
   "source": [
    "data_train.boxplot('rougher.output.recovery', figsize=(5,5));"
   ]
  },
  {
   "cell_type": "code",
   "execution_count": 31,
   "metadata": {},
   "outputs": [
    {
     "data": {
      "image/png": "[encoded data removed]",
      "text/plain": [
       "<Figure size 432x288 with 1 Axes>"
      ]
     },
     "metadata": {
      "needs_background": "light"
     },
     "output_type": "display_data"
    }
   ],
   "source": [
    "data_train['rougher.output.recovery'].hist(bins=100);"
   ]
  },
  {
   "cell_type": "markdown",
   "metadata": {},
   "source": [
    "Пометим выбросы признака *rougher.output.recovery* и заменим их и пропущенные значения на расчётные:"
   ]
  },
  {
   "cell_type": "code",
   "execution_count": 32,
   "metadata": {},
   "outputs": [],
   "source": [
    "data_train['rougher.output.recovery_discharge'] = filtering_outliers(data_train['rougher.output.recovery'])"
   ]
  },
  {
   "cell_type": "code",
   "execution_count": 33,
   "metadata": {},
   "outputs": [],
   "source": [
    "data_train['rougher.output.recovery'] = data_train.apply(replace_to_calculate, axis=1, args=('rougher.output.recovery', 'rougher.output.recovery_discharge', 'rougher.calculation.recovery'))"
   ]
  },
  {
   "cell_type": "markdown",
   "metadata": {},
   "source": [
    "Удалим ненужные столбцы - с признаком выбросов и расчётным значением"
   ]
  },
  {
   "cell_type": "code",
   "execution_count": 34,
   "metadata": {},
   "outputs": [],
   "source": [
    "data_train = data_train.drop(['rougher.output.recovery_discharge', 'rougher.calculation.recovery'], axis=1)"
   ]
  },
  {
   "cell_type": "markdown",
   "metadata": {},
   "source": [
    "Удалим объекты, признак которых не удалось восстановить:"
   ]
  },
  {
   "cell_type": "code",
   "execution_count": 35,
   "metadata": {},
   "outputs": [],
   "source": [
    "data_train = data_train.dropna(subset=['rougher.output.recovery'], axis='rows')"
   ]
  },
  {
   "cell_type": "markdown",
   "metadata": {},
   "source": [
    "Среди новых данных найдём выбросы:"
   ]
  },
  {
   "cell_type": "code",
   "execution_count": 36,
   "metadata": {},
   "outputs": [],
   "source": [
    "data_train['rougher.output.recovery_discharge'] = filtering_outliers(data_train['rougher.output.recovery'])"
   ]
  },
  {
   "cell_type": "markdown",
   "metadata": {},
   "source": [
    "Удалим выбросы и ненужный признак выбросов:"
   ]
  },
  {
   "cell_type": "code",
   "execution_count": 37,
   "metadata": {},
   "outputs": [],
   "source": [
    "data_train = data_train[data_train['rougher.output.recovery_discharge'] == False]"
   ]
  },
  {
   "cell_type": "code",
   "execution_count": 38,
   "metadata": {},
   "outputs": [],
   "source": [
    "data_train = data_train.drop(['rougher.output.recovery_discharge'], axis=1)"
   ]
  },
  {
   "cell_type": "markdown",
   "metadata": {},
   "source": [
    "Оценим результаты обработки:"
   ]
  },
  {
   "cell_type": "code",
   "execution_count": 39,
   "metadata": {},
   "outputs": [
    {
     "data": {
      "image/png": "[encoded data removed]",
      "text/plain": [
       "<Figure size 360x360 with 1 Axes>"
      ]
     },
     "metadata": {
      "needs_background": "light"
     },
     "output_type": "display_data"
    }
   ],
   "source": [
    "data_train.boxplot('rougher.output.recovery', figsize=(5,5));"
   ]
  },
  {
   "cell_type": "code",
   "execution_count": 40,
   "metadata": {},
   "outputs": [
    {
     "data": {
      "image/png": "[encoded data removed]",
      "text/plain": [
       "<Figure size 432x288 with 1 Axes>"
      ]
     },
     "metadata": {
      "needs_background": "light"
     },
     "output_type": "display_data"
    }
   ],
   "source": [
    "data_train['rougher.output.recovery'].hist(bins=100);"
   ]
  },
  {
   "cell_type": "markdown",
   "metadata": {},
   "source": [
    "Посмотрим на оставшиеся пропущенные значения:"
   ]
  },
  {
   "cell_type": "code",
   "execution_count": 41,
   "metadata": {},
   "outputs": [
    {
     "name": "stdout",
     "output_type": "stream",
     "text": [
      "<class 'pandas.core.frame.DataFrame'>\n",
      "Int64Index: 13090 entries, 0 to 16859\n",
      "Data columns (total 87 columns):\n",
      " #   Column                                              Non-Null Count  Dtype  \n",
      "---  ------                                              --------------  -----  \n",
      " 0   date                                                13090 non-null  object \n",
      " 1   final.output.concentrate_ag                         13089 non-null  float64\n",
      " 2   final.output.concentrate_pb                         13089 non-null  float64\n",
      " 3   final.output.concentrate_sol                        12935 non-null  float64\n",
      " 4   final.output.concentrate_au                         13090 non-null  float64\n",
      " 5   final.output.recovery                               13090 non-null  float64\n",
      " 6   final.output.tail_ag                                13090 non-null  float64\n",
      " 7   final.output.tail_pb                                13016 non-null  float64\n",
      " 8   final.output.tail_sol                               13087 non-null  float64\n",
      " 9   final.output.tail_au                                13090 non-null  float64\n",
      " 10  primary_cleaner.input.sulfate                       13087 non-null  float64\n",
      " 11  primary_cleaner.input.depressant                    13081 non-null  float64\n",
      " 12  primary_cleaner.input.feed_size                     13090 non-null  float64\n",
      " 13  primary_cleaner.input.xanthate                      13013 non-null  float64\n",
      " 14  primary_cleaner.output.concentrate_ag               13090 non-null  float64\n",
      " 15  primary_cleaner.output.concentrate_pb               13052 non-null  float64\n",
      " 16  primary_cleaner.output.concentrate_sol              12916 non-null  float64\n",
      " 17  primary_cleaner.output.concentrate_au               13090 non-null  float64\n",
      " 18  primary_cleaner.output.tail_ag                      13089 non-null  float64\n",
      " 19  primary_cleaner.output.tail_pb                      13076 non-null  float64\n",
      " 20  primary_cleaner.output.tail_sol                     13059 non-null  float64\n",
      " 21  primary_cleaner.output.tail_au                      13090 non-null  float64\n",
      " 22  primary_cleaner.state.floatbank8_a_air              13088 non-null  float64\n",
      " 23  primary_cleaner.state.floatbank8_a_level            13089 non-null  float64\n",
      " 24  primary_cleaner.state.floatbank8_b_air              13088 non-null  float64\n",
      " 25  primary_cleaner.state.floatbank8_b_level            13089 non-null  float64\n",
      " 26  primary_cleaner.state.floatbank8_c_air              13088 non-null  float64\n",
      " 27  primary_cleaner.state.floatbank8_c_level            13089 non-null  float64\n",
      " 28  primary_cleaner.state.floatbank8_d_air              13087 non-null  float64\n",
      " 29  primary_cleaner.state.floatbank8_d_level            13089 non-null  float64\n",
      " 30  rougher.calculation.sulfate_to_au_concentrate       13089 non-null  float64\n",
      " 31  rougher.calculation.floatbank10_sulfate_to_au_feed  13089 non-null  float64\n",
      " 32  rougher.calculation.floatbank11_sulfate_to_au_feed  13089 non-null  float64\n",
      " 33  rougher.calculation.au_pb_ratio                     13090 non-null  float64\n",
      " 34  rougher.input.feed_ag                               13090 non-null  float64\n",
      " 35  rougher.input.feed_pb                               13027 non-null  float64\n",
      " 36  rougher.input.feed_rate                             13085 non-null  float64\n",
      " 37  rougher.input.feed_size                             12964 non-null  float64\n",
      " 38  rougher.input.feed_sol                              13051 non-null  float64\n",
      " 39  rougher.input.feed_au                               13090 non-null  float64\n",
      " 40  rougher.input.floatbank10_sulfate                   13084 non-null  float64\n",
      " 41  rougher.input.floatbank10_xanthate                  13089 non-null  float64\n",
      " 42  rougher.input.floatbank11_sulfate                   13080 non-null  float64\n",
      " 43  rougher.input.floatbank11_xanthate                  12761 non-null  float64\n",
      " 44  rougher.output.concentrate_ag                       13090 non-null  float64\n",
      " 45  rougher.output.concentrate_pb                       13090 non-null  float64\n",
      " 46  rougher.output.concentrate_sol                      13071 non-null  float64\n",
      " 47  rougher.output.concentrate_au                       13090 non-null  float64\n",
      " 48  rougher.output.recovery                             13090 non-null  float64\n",
      " 49  rougher.output.tail_ag                              13089 non-null  float64\n",
      " 50  rougher.output.tail_pb                              13090 non-null  float64\n",
      " 51  rougher.output.tail_sol                             13090 non-null  float64\n",
      " 52  rougher.output.tail_au                              13090 non-null  float64\n",
      " 53  rougher.state.floatbank10_a_air                     13089 non-null  float64\n",
      " 54  rougher.state.floatbank10_a_level                   13089 non-null  float64\n",
      " 55  rougher.state.floatbank10_b_air                     13089 non-null  float64\n",
      " 56  rougher.state.floatbank10_b_level                   13089 non-null  float64\n",
      " 57  rougher.state.floatbank10_c_air                     13089 non-null  float64\n",
      " 58  rougher.state.floatbank10_c_level                   13089 non-null  float64\n",
      " 59  rougher.state.floatbank10_d_air                     13090 non-null  float64\n",
      " 60  rougher.state.floatbank10_d_level                   13090 non-null  float64\n",
      " 61  rougher.state.floatbank10_e_air                     12730 non-null  float64\n",
      " 62  rougher.state.floatbank10_e_level                   13090 non-null  float64\n",
      " 63  rougher.state.floatbank10_f_air                     13090 non-null  float64\n",
      " 64  rougher.state.floatbank10_f_level                   13090 non-null  float64\n",
      " 65  secondary_cleaner.output.tail_ag                    13089 non-null  float64\n",
      " 66  secondary_cleaner.output.tail_pb                    13082 non-null  float64\n",
      " 67  secondary_cleaner.output.tail_sol                   11616 non-null  float64\n",
      " 68  secondary_cleaner.output.tail_au                    13090 non-null  float64\n",
      " 69  secondary_cleaner.state.floatbank2_a_air            12897 non-null  float64\n",
      " 70  secondary_cleaner.state.floatbank2_a_level          13089 non-null  float64\n",
      " 71  secondary_cleaner.state.floatbank2_b_air            13086 non-null  float64\n",
      " 72  secondary_cleaner.state.floatbank2_b_level          13089 non-null  float64\n",
      " 73  secondary_cleaner.state.floatbank3_a_air            13086 non-null  float64\n",
      " 74  secondary_cleaner.state.floatbank3_a_level          13089 non-null  float64\n",
      " 75  secondary_cleaner.state.floatbank3_b_air            13089 non-null  float64\n",
      " 76  secondary_cleaner.state.floatbank3_b_level          13089 non-null  float64\n",
      " 77  secondary_cleaner.state.floatbank4_a_air            13086 non-null  float64\n",
      " 78  secondary_cleaner.state.floatbank4_a_level          13089 non-null  float64\n",
      " 79  secondary_cleaner.state.floatbank4_b_air            13089 non-null  float64\n",
      " 80  secondary_cleaner.state.floatbank4_b_level          13089 non-null  float64\n",
      " 81  secondary_cleaner.state.floatbank5_a_air            13089 non-null  float64\n",
      " 82  secondary_cleaner.state.floatbank5_a_level          13089 non-null  float64\n",
      " 83  secondary_cleaner.state.floatbank5_b_air            13089 non-null  float64\n",
      " 84  secondary_cleaner.state.floatbank5_b_level          13089 non-null  float64\n",
      " 85  secondary_cleaner.state.floatbank6_a_air            13089 non-null  float64\n",
      " 86  secondary_cleaner.state.floatbank6_a_level          13089 non-null  float64\n",
      "dtypes: float64(86), object(1)\n",
      "memory usage: 8.8+ MB\n"
     ]
    }
   ],
   "source": [
    "data_train.info()"
   ]
  },
  {
   "cell_type": "markdown",
   "metadata": {},
   "source": [
    "Осталось не много пропущенных значений. Заменим их средним на значения, соседние по времени, т.к. они часто похожи:"
   ]
  },
  {
   "cell_type": "code",
   "execution_count": 42,
   "metadata": {
    "scrolled": false
   },
   "outputs": [
    {
     "name": "stderr",
     "output_type": "stream",
     "text": [
      "c:\\users\\sceli\\appdata\\local\\programs\\python\\python38\\lib\\site-packages\\pandas\\core\\indexing.py:671: SettingWithCopyWarning: \n",
      "A value is trying to be set on a copy of a slice from a DataFrame\n",
      "\n",
      "See the caveats in the documentation: https://pandas.pydata.org/pandas-docs/stable/user_guide/indexing.html#returning-a-view-versus-a-copy\n",
      "  self._setitem_with_indexer(indexer, value)\n"
     ]
    }
   ],
   "source": [
    "data_train = fillna_to_neighbour(data_train)"
   ]
  },
  {
   "cell_type": "markdown",
   "metadata": {},
   "source": [
    "Далее обработаем данные тестовой выборки:"
   ]
  },
  {
   "cell_type": "code",
   "execution_count": 43,
   "metadata": {},
   "outputs": [
    {
     "name": "stdout",
     "output_type": "stream",
     "text": [
      "<class 'pandas.core.frame.DataFrame'>\n",
      "RangeIndex: 5856 entries, 0 to 5855\n",
      "Data columns (total 53 columns):\n",
      " #   Column                                      Non-Null Count  Dtype  \n",
      "---  ------                                      --------------  -----  \n",
      " 0   date                                        5856 non-null   object \n",
      " 1   primary_cleaner.input.sulfate               5554 non-null   float64\n",
      " 2   primary_cleaner.input.depressant            5572 non-null   float64\n",
      " 3   primary_cleaner.input.feed_size             5856 non-null   float64\n",
      " 4   primary_cleaner.input.xanthate              5690 non-null   float64\n",
      " 5   primary_cleaner.state.floatbank8_a_air      5840 non-null   float64\n",
      " 6   primary_cleaner.state.floatbank8_a_level    5840 non-null   float64\n",
      " 7   primary_cleaner.state.floatbank8_b_air      5840 non-null   float64\n",
      " 8   primary_cleaner.state.floatbank8_b_level    5840 non-null   float64\n",
      " 9   primary_cleaner.state.floatbank8_c_air      5840 non-null   float64\n",
      " 10  primary_cleaner.state.floatbank8_c_level    5840 non-null   float64\n",
      " 11  primary_cleaner.state.floatbank8_d_air      5840 non-null   float64\n",
      " 12  primary_cleaner.state.floatbank8_d_level    5840 non-null   float64\n",
      " 13  rougher.input.feed_ag                       5840 non-null   float64\n",
      " 14  rougher.input.feed_pb                       5840 non-null   float64\n",
      " 15  rougher.input.feed_rate                     5816 non-null   float64\n",
      " 16  rougher.input.feed_size                     5834 non-null   float64\n",
      " 17  rougher.input.feed_sol                      5789 non-null   float64\n",
      " 18  rougher.input.feed_au                       5840 non-null   float64\n",
      " 19  rougher.input.floatbank10_sulfate           5599 non-null   float64\n",
      " 20  rougher.input.floatbank10_xanthate          5733 non-null   float64\n",
      " 21  rougher.input.floatbank11_sulfate           5801 non-null   float64\n",
      " 22  rougher.input.floatbank11_xanthate          5503 non-null   float64\n",
      " 23  rougher.state.floatbank10_a_air             5839 non-null   float64\n",
      " 24  rougher.state.floatbank10_a_level           5840 non-null   float64\n",
      " 25  rougher.state.floatbank10_b_air             5839 non-null   float64\n",
      " 26  rougher.state.floatbank10_b_level           5840 non-null   float64\n",
      " 27  rougher.state.floatbank10_c_air             5839 non-null   float64\n",
      " 28  rougher.state.floatbank10_c_level           5840 non-null   float64\n",
      " 29  rougher.state.floatbank10_d_air             5839 non-null   float64\n",
      " 30  rougher.state.floatbank10_d_level           5840 non-null   float64\n",
      " 31  rougher.state.floatbank10_e_air             5839 non-null   float64\n",
      " 32  rougher.state.floatbank10_e_level           5840 non-null   float64\n",
      " 33  rougher.state.floatbank10_f_air             5839 non-null   float64\n",
      " 34  rougher.state.floatbank10_f_level           5840 non-null   float64\n",
      " 35  secondary_cleaner.state.floatbank2_a_air    5836 non-null   float64\n",
      " 36  secondary_cleaner.state.floatbank2_a_level  5840 non-null   float64\n",
      " 37  secondary_cleaner.state.floatbank2_b_air    5833 non-null   float64\n",
      " 38  secondary_cleaner.state.floatbank2_b_level  5840 non-null   float64\n",
      " 39  secondary_cleaner.state.floatbank3_a_air    5822 non-null   float64\n",
      " 40  secondary_cleaner.state.floatbank3_a_level  5840 non-null   float64\n",
      " 41  secondary_cleaner.state.floatbank3_b_air    5840 non-null   float64\n",
      " 42  secondary_cleaner.state.floatbank3_b_level  5840 non-null   float64\n",
      " 43  secondary_cleaner.state.floatbank4_a_air    5840 non-null   float64\n",
      " 44  secondary_cleaner.state.floatbank4_a_level  5840 non-null   float64\n",
      " 45  secondary_cleaner.state.floatbank4_b_air    5840 non-null   float64\n",
      " 46  secondary_cleaner.state.floatbank4_b_level  5840 non-null   float64\n",
      " 47  secondary_cleaner.state.floatbank5_a_air    5840 non-null   float64\n",
      " 48  secondary_cleaner.state.floatbank5_a_level  5840 non-null   float64\n",
      " 49  secondary_cleaner.state.floatbank5_b_air    5840 non-null   float64\n",
      " 50  secondary_cleaner.state.floatbank5_b_level  5840 non-null   float64\n",
      " 51  secondary_cleaner.state.floatbank6_a_air    5840 non-null   float64\n",
      " 52  secondary_cleaner.state.floatbank6_a_level  5840 non-null   float64\n",
      "dtypes: float64(52), object(1)\n",
      "memory usage: 2.4+ MB\n"
     ]
    }
   ],
   "source": [
    "data_test.info()"
   ]
  },
  {
   "cell_type": "markdown",
   "metadata": {},
   "source": [
    "Пропусков не много. Заменим их на средние значения:"
   ]
  },
  {
   "cell_type": "code",
   "execution_count": 44,
   "metadata": {},
   "outputs": [],
   "source": [
    "data_test = fillna_to_neighbour(data_test)"
   ]
  },
  {
   "cell_type": "markdown",
   "metadata": {},
   "source": [
    "Предобработка данных завершена!"
   ]
  },
  {
   "cell_type": "markdown",
   "metadata": {},
   "source": [
    "# 2. Анализ данных"
   ]
  },
  {
   "cell_type": "markdown",
   "metadata": {},
   "source": [
    "### 2.1. Изучение концентрации металлов на различных этапах очистки"
   ]
  },
  {
   "cell_type": "markdown",
   "metadata": {},
   "source": [
    "Посмотритм, как меняется концентрация металлов (Au, Ag, Pb) на различных этапах очистки"
   ]
  },
  {
   "cell_type": "code",
   "execution_count": 45,
   "metadata": {},
   "outputs": [],
   "source": [
    "x_names = ['rougher.input',\n",
    "     'rougher.output',\n",
    "     'primary_cleaner.output',\n",
    "     'final.output']\n",
    "mean_au = [data_train['rougher.input.feed_au'].mean(), \n",
    "        data_train['rougher.output.concentrate_au'].mean(),\n",
    "        data_train['primary_cleaner.output.concentrate_au'].mean(), \n",
    "        data_train['final.output.concentrate_au'].mean()]\n",
    "mean_ag = [data_train['rougher.input.feed_ag'].mean(), \n",
    "        data_train['rougher.output.concentrate_ag'].mean(),\n",
    "        data_train['primary_cleaner.output.concentrate_ag'].mean(), \n",
    "        data_train['final.output.concentrate_ag'].mean()]\n",
    "mean_pb = [data_train['rougher.input.feed_pb'].mean(), \n",
    "        data_train['rougher.output.concentrate_pb'].mean(),\n",
    "        data_train['primary_cleaner.output.concentrate_pb'].mean(), \n",
    "        data_train['final.output.concentrate_pb'].mean()]\n",
    "mean_sol = [data_train['rougher.input.feed_sol'].mean(), \n",
    "        data_train['rougher.output.concentrate_sol'].mean(),\n",
    "        data_train['primary_cleaner.output.concentrate_sol'].mean(), \n",
    "        data_train['final.output.concentrate_sol'].mean()]\n",
    "\n",
    "substances_stages = pd.DataFrame(data=[mean_au, mean_ag, mean_pb, mean_sol], columns=x_names, index=['Au', 'Ag', 'Pb', 'Sol']).T"
   ]
  },
  {
   "cell_type": "code",
   "execution_count": 46,
   "metadata": {
    "scrolled": false
   },
   "outputs": [
    {
     "data": {
      "image/png": "[encoded data removed]",
      "text/plain": [
       "<Figure size 720x504 with 1 Axes>"
      ]
     },
     "metadata": {
      "needs_background": "light"
     },
     "output_type": "display_data"
    }
   ],
   "source": [
    "xs = range(len(x_names))\n",
    "\n",
    "\n",
    "fig = plt.figure(figsize=(10, 7))\n",
    "plt.title('Average concentration of metals at different stages')\n",
    "\n",
    "\n",
    "plt.bar([x - 0.2 for x in xs], mean_au,\n",
    "        width = 0.2, color = 'gold', alpha = 0.7, label = 'aurum',\n",
    "        zorder = 2)\n",
    "plt.bar([x for x in xs], mean_ag,\n",
    "        width = 0.2, color = 'gray', alpha = 0.7, label = 'argentum',\n",
    "        zorder = 2)\n",
    "plt.bar([x + 0.2 for x in xs], mean_pb,\n",
    "        width = 0.2, color = 'black', alpha = 0.7, label = 'plumbum',\n",
    "        zorder = 2)\n",
    "plt.xticks(xs, x_names)\n",
    "fig.autofmt_xdate(rotation = 25)\n",
    "plt.legend(loc='upper right');"
   ]
  },
  {
   "cell_type": "markdown",
   "metadata": {},
   "source": [
    "По мере прохождения золотосодержащей руды различных этапов очистики концентрация золота в ней сльно повышается <br>\n",
    "Концентрация серебра немного повышается после флотации, затем снижается при очистке <br>\n",
    "Концентрация свинца повышается на всех этапах технологического процесса.<br>\n",
    "Повышение концентрации свинца, возможно, связано со снижением концентрации остальных примесей по мере очистки."
   ]
  },
  {
   "cell_type": "markdown",
   "metadata": {},
   "source": [
    "### 2.2. Сравнение распределения размеров гранул сырья"
   ]
  },
  {
   "cell_type": "markdown",
   "metadata": {},
   "source": [
    "Сравним распределения размеров гранул сырья на обучающей и тестовой выборках. Если распределения сильно отличаются друг от друга, оценка модели будет неправильной."
   ]
  },
  {
   "cell_type": "code",
   "execution_count": 47,
   "metadata": {},
   "outputs": [
    {
     "data": {
      "image/png": "[encoded data removed]",
      "text/plain": [
       "<Figure size 720x504 with 1 Axes>"
      ]
     },
     "metadata": {
      "needs_background": "light"
     },
     "output_type": "display_data"
    }
   ],
   "source": [
    "plt.figure(figsize=(10, 7))\n",
    "plt.hist(x=[data_train['rougher.input.feed_size'], \n",
    "            data_test['rougher.input.feed_size']], \n",
    "         bins=100, range=(20,120), density=True, label=['train', 'test'])\n",
    "plt.legend(loc='upper right');"
   ]
  },
  {
   "cell_type": "markdown",
   "metadata": {},
   "source": [
    "Распределения размеров гранул сырья на обучающей и тестовой выборках имеют похожий вид. И т.к. распределения сильно не отличаются друг от друга, то оценка модели может быть правильноый и для тестовых данных."
   ]
  },
  {
   "cell_type": "markdown",
   "metadata": {},
   "source": [
    "### 2.3. Исследование суммарной концентрации веществ на разных стадиях"
   ]
  },
  {
   "cell_type": "markdown",
   "metadata": {},
   "source": [
    "Исследуем суммарную концентрацию всех веществ на разных стадиях: в сырье, в черновом и финальном концентратах"
   ]
  },
  {
   "cell_type": "code",
   "execution_count": 48,
   "metadata": {},
   "outputs": [
    {
     "data": {
      "image/png": "[encoded data removed]",
      "text/plain": [
       "<Figure size 432x288 with 1 Axes>"
      ]
     },
     "metadata": {
      "needs_background": "light"
     },
     "output_type": "display_data"
    }
   ],
   "source": [
    "ax = substances_stages.plot.bar(stacked=True);"
   ]
  },
  {
   "cell_type": "code",
   "execution_count": 49,
   "metadata": {},
   "outputs": [
    {
     "data": {
      "image/png": "[encoded data removed]",
      "text/plain": [
       "<Figure size 432x288 with 1 Axes>"
      ]
     },
     "metadata": {
      "needs_background": "light"
     },
     "output_type": "display_data"
    }
   ],
   "source": [
    "plt.title('Sum of concentrates at the stage rougher.input')\n",
    "(data_train['rougher.input.feed_au'] + data_train['rougher.input.feed_ag'] + data_train['rougher.input.feed_pb']+data_train['rougher.input.feed_sol']).hist(bins=100);"
   ]
  },
  {
   "cell_type": "code",
   "execution_count": 50,
   "metadata": {},
   "outputs": [
    {
     "data": {
      "image/png": "[encoded data removed]",
      "text/plain": [
       "<Figure size 432x288 with 1 Axes>"
      ]
     },
     "metadata": {
      "needs_background": "light"
     },
     "output_type": "display_data"
    }
   ],
   "source": [
    "plt.boxplot((data_train['rougher.input.feed_au'] + data_train['rougher.input.feed_ag'] + data_train['rougher.input.feed_pb']+data_train['rougher.input.feed_sol']));"
   ]
  },
  {
   "cell_type": "code",
   "execution_count": 51,
   "metadata": {},
   "outputs": [],
   "source": [
    "# удалим выбросы\n",
    "data_train = data_train[(data_train['rougher.input.feed_au'] + data_train['rougher.input.feed_ag'] + data_train['rougher.input.feed_pb']+data_train['rougher.input.feed_sol']) > 40]"
   ]
  },
  {
   "cell_type": "code",
   "execution_count": 52,
   "metadata": {},
   "outputs": [
    {
     "data": {
      "image/png": "[encoded data removed]",
      "text/plain": [
       "<Figure size 1080x504 with 1 Axes>"
      ]
     },
     "metadata": {
      "needs_background": "light"
     },
     "output_type": "display_data"
    }
   ],
   "source": [
    "plt.figure(figsize=(15, 7))\n",
    "plt.title('Distribution of concentrations at the stage rougher.input')\n",
    "plt.hist([data_train['rougher.input.feed_au'], data_train['rougher.input.feed_ag'], data_train['rougher.input.feed_pb'], data_train['rougher.input.feed_sol']],\n",
    "         bins=100, color=['gold', 'gray', 'black', 'red'],\n",
    "        label=['Au', 'Ag', 'Pb', 'Sol'], width = 0.3);\n",
    "plt.legend(loc='upper right');"
   ]
  },
  {
   "cell_type": "code",
   "execution_count": 53,
   "metadata": {},
   "outputs": [
    {
     "data": {
      "image/png": "[encoded data removed]",
      "text/plain": [
       "<Figure size 432x288 with 1 Axes>"
      ]
     },
     "metadata": {
      "needs_background": "light"
     },
     "output_type": "display_data"
    }
   ],
   "source": [
    "plt.title('Sum of concentrates at the stage rougher.output')\n",
    "(data_train['rougher.output.concentrate_au'] + data_train['rougher.output.concentrate_ag'] + data_train['rougher.output.concentrate_pb']+data_train['rougher.output.concentrate_sol']).hist(bins=100);"
   ]
  },
  {
   "cell_type": "code",
   "execution_count": 54,
   "metadata": {},
   "outputs": [
    {
     "data": {
      "image/png": "[encoded data removed]",
      "text/plain": [
       "<Figure size 432x288 with 1 Axes>"
      ]
     },
     "metadata": {
      "needs_background": "light"
     },
     "output_type": "display_data"
    }
   ],
   "source": [
    "plt.boxplot((data_train['rougher.output.concentrate_au'] + data_train['rougher.output.concentrate_ag'] + data_train['rougher.output.concentrate_pb']+data_train['rougher.output.concentrate_sol']));"
   ]
  },
  {
   "cell_type": "code",
   "execution_count": 55,
   "metadata": {},
   "outputs": [],
   "source": [
    "# удалим выбросы\n",
    "data_train = data_train[(data_train['rougher.output.concentrate_au'] + data_train['rougher.output.concentrate_ag'] + data_train['rougher.output.concentrate_pb']+data_train['rougher.output.concentrate_sol']) > 50]"
   ]
  },
  {
   "cell_type": "code",
   "execution_count": 56,
   "metadata": {},
   "outputs": [
    {
     "data": {
      "image/png": "[encoded data removed]",
      "text/plain": [
       "<Figure size 1080x504 with 1 Axes>"
      ]
     },
     "metadata": {
      "needs_background": "light"
     },
     "output_type": "display_data"
    }
   ],
   "source": [
    "plt.figure(figsize=(15, 7))\n",
    "plt.title('Distribution of concentrations at the stage rougher.output')\n",
    "plt.hist([data_train['rougher.output.concentrate_au'], data_train['rougher.output.concentrate_ag'], data_train['rougher.output.concentrate_pb'], data_train['rougher.output.concentrate_sol']],\n",
    "         bins=100, color=['gold', 'gray', 'black', 'red'],\n",
    "        label=['Au', 'Ag', 'Pb', 'Sol'], width = 0.3);\n",
    "plt.legend(loc='upper right');"
   ]
  },
  {
   "cell_type": "code",
   "execution_count": 57,
   "metadata": {},
   "outputs": [
    {
     "data": {
      "image/png": "[encoded data removed]",
      "text/plain": [
       "<Figure size 432x288 with 1 Axes>"
      ]
     },
     "metadata": {
      "needs_background": "light"
     },
     "output_type": "display_data"
    }
   ],
   "source": [
    "plt.title('Sum of concentrates at the stage primary_cleaner.output')\n",
    "(data_train['primary_cleaner.output.concentrate_au'] + data_train['primary_cleaner.output.concentrate_ag'] + data_train['primary_cleaner.output.concentrate_pb']+data_train['primary_cleaner.output.concentrate_sol']).hist(bins=100);"
   ]
  },
  {
   "cell_type": "code",
   "execution_count": 58,
   "metadata": {},
   "outputs": [
    {
     "data": {
      "text/plain": [
       "{'whiskers': [<matplotlib.lines.Line2D at 0x1ceca43b9d0>,\n",
       "  <matplotlib.lines.Line2D at 0x1ceca43b220>],\n",
       " 'caps': [<matplotlib.lines.Line2D at 0x1ceca43bf70>,\n",
       "  <matplotlib.lines.Line2D at 0x1ceca43b100>],\n",
       " 'boxes': [<matplotlib.lines.Line2D at 0x1ceca582fd0>],\n",
       " 'medians': [<matplotlib.lines.Line2D at 0x1ceca55c220>],\n",
       " 'fliers': [<matplotlib.lines.Line2D at 0x1ceca55c340>],\n",
       " 'means': []}"
      ]
     },
     "execution_count": 58,
     "metadata": {},
     "output_type": "execute_result"
    },
    {
     "data": {
      "image/png": "[encoded data removed]",
      "text/plain": [
       "<Figure size 432x288 with 1 Axes>"
      ]
     },
     "metadata": {
      "needs_background": "light"
     },
     "output_type": "display_data"
    }
   ],
   "source": [
    "plt.boxplot((data_train['primary_cleaner.output.concentrate_au'] + data_train['primary_cleaner.output.concentrate_ag'] + data_train['primary_cleaner.output.concentrate_pb']+data_train['primary_cleaner.output.concentrate_sol']))"
   ]
  },
  {
   "cell_type": "code",
   "execution_count": 59,
   "metadata": {},
   "outputs": [],
   "source": [
    "# удалим выбросы\n",
    "data_train = data_train[(data_train['primary_cleaner.output.concentrate_au'] + data_train['primary_cleaner.output.concentrate_ag'] + data_train['primary_cleaner.output.concentrate_pb']+data_train['primary_cleaner.output.concentrate_sol']) > 45]"
   ]
  },
  {
   "cell_type": "code",
   "execution_count": 60,
   "metadata": {},
   "outputs": [
    {
     "data": {
      "image/png": "[encoded data removed]",
      "text/plain": [
       "<Figure size 1080x504 with 1 Axes>"
      ]
     },
     "metadata": {
      "needs_background": "light"
     },
     "output_type": "display_data"
    }
   ],
   "source": [
    "plt.figure(figsize=(15, 7))\n",
    "plt.title('Distribution of concentrations at the stage primary_cleaner.output')\n",
    "plt.hist([data_train['primary_cleaner.output.concentrate_au'], data_train['primary_cleaner.output.concentrate_ag'], data_train['primary_cleaner.output.concentrate_pb'], data_train['primary_cleaner.output.concentrate_sol']],\n",
    "         bins=100, color=['gold', 'gray', 'black', 'red'],\n",
    "        label=['Au', 'Ag', 'Pb', 'Sol'], width = 0.3);\n",
    "plt.legend(loc='upper right');"
   ]
  },
  {
   "cell_type": "code",
   "execution_count": 61,
   "metadata": {},
   "outputs": [
    {
     "data": {
      "image/png": "[encoded data removed]",
      "text/plain": [
       "<Figure size 432x288 with 1 Axes>"
      ]
     },
     "metadata": {
      "needs_background": "light"
     },
     "output_type": "display_data"
    }
   ],
   "source": [
    "plt.title('Sum of concentrates at the stage final.output')\n",
    "(data_train['final.output.concentrate_au'] + data_train['final.output.concentrate_ag'] + data_train['final.output.concentrate_pb']+data_train['final.output.concentrate_sol']).hist(bins=100);"
   ]
  },
  {
   "cell_type": "code",
   "execution_count": 62,
   "metadata": {},
   "outputs": [
    {
     "data": {
      "text/plain": [
       "{'whiskers': [<matplotlib.lines.Line2D at 0x1ceca777b20>,\n",
       "  <matplotlib.lines.Line2D at 0x1ceca777070>],\n",
       " 'caps': [<matplotlib.lines.Line2D at 0x1ceca713d60>,\n",
       "  <matplotlib.lines.Line2D at 0x1ceca713910>],\n",
       " 'boxes': [<matplotlib.lines.Line2D at 0x1ceca777940>],\n",
       " 'medians': [<matplotlib.lines.Line2D at 0x1ceca713370>],\n",
       " 'fliers': [<matplotlib.lines.Line2D at 0x1ceca713790>],\n",
       " 'means': []}"
      ]
     },
     "execution_count": 62,
     "metadata": {},
     "output_type": "execute_result"
    },
    {
     "data": {
      "image/png": "[encoded data removed]",
      "text/plain": [
       "<Figure size 432x288 with 1 Axes>"
      ]
     },
     "metadata": {
      "needs_background": "light"
     },
     "output_type": "display_data"
    }
   ],
   "source": [
    "plt.boxplot((data_train['final.output.concentrate_au'] + data_train['final.output.concentrate_ag'] + data_train['final.output.concentrate_pb']+data_train['final.output.concentrate_sol']))"
   ]
  },
  {
   "cell_type": "code",
   "execution_count": 63,
   "metadata": {},
   "outputs": [],
   "source": [
    "# удалим выбросы\n",
    "data_train = data_train[(data_train['final.output.concentrate_au'] + data_train['final.output.concentrate_ag'] + data_train['final.output.concentrate_pb']+data_train['final.output.concentrate_sol']) > 62]\n",
    "data_train = data_train[(data_train['final.output.concentrate_au'] + data_train['final.output.concentrate_ag'] + data_train['final.output.concentrate_pb']+data_train['final.output.concentrate_sol']) < 77]"
   ]
  },
  {
   "cell_type": "code",
   "execution_count": 64,
   "metadata": {},
   "outputs": [
    {
     "data": {
      "image/png": "[encoded data removed]",
      "text/plain": [
       "<Figure size 1080x504 with 1 Axes>"
      ]
     },
     "metadata": {
      "needs_background": "light"
     },
     "output_type": "display_data"
    }
   ],
   "source": [
    "plt.figure(figsize=(15, 7))\n",
    "plt.title('Distribution of concentrations at the stage final.output')\n",
    "plt.hist([data_train['final.output.concentrate_au'], data_train['final.output.concentrate_ag'], data_train['final.output.concentrate_pb'], data_train['final.output.concentrate_sol']],\n",
    "         bins=100, color=['gold', 'gray', 'black', 'red'],\n",
    "        label=['Au', 'Ag', 'Pb', 'Sol'], width = 0.3);\n",
    "plt.legend(loc='upper right');"
   ]
  },
  {
   "cell_type": "markdown",
   "metadata": {},
   "source": [
    "Видно, как проходя по всем этапам технологического процесса, концентрация золота в смеси увеличивалась, относительно концентрации других веществ. Также концентрация становилась стабильнее - уменьшался разброс. <br>\n",
    "Аномальным значениями считали значения, которые находятся за пределами \"усов\" диаграммы размаха (те, значения, вероятность которых менее 99%) удалили из тренировочной выборки. Из тестовой выборки удаление проводить не будем, т.к. в реальности этих данных не будет."
   ]
  },
  {
   "cell_type": "markdown",
   "metadata": {},
   "source": [
    "# 3. Модель"
   ]
  },
  {
   "cell_type": "markdown",
   "metadata": {},
   "source": [
    "Аномалии в данных не замечено. Небольшой провал по окнчании этапа первиной очистки может свидетельствовать об увеличении концентрации других, вещест взамен очищенных."
   ]
  },
  {
   "cell_type": "markdown",
   "metadata": {},
   "source": [
    "Напишем функцию для вычисления итоговой метрики:"
   ]
  },
  {
   "cell_type": "code",
   "execution_count": 65,
   "metadata": {},
   "outputs": [],
   "source": [
    "def metrics_sMAPE(target, value):\n",
    "    return (abs(target-value) / ((abs(target) + abs(value))/2)).sum() * 1/len(target) * 100"
   ]
  },
  {
   "cell_type": "code",
   "execution_count": 66,
   "metadata": {},
   "outputs": [],
   "source": [
    "def metrics_total_sMAPE(target, value):\n",
    "    final_sMAPE = (abs(target['final.output.recovery']-value[:, 1]) / ((abs(target['final.output.recovery']) + abs(value[:, 1]))/2)).sum() * 1/len(target['final.output.recovery']) * 100\n",
    "    rougher_sMAPE = (abs(target['rougher.output.recovery']-value[:, 0]) / ((abs(target['rougher.output.recovery']) + abs(value[:, 0]))/2)).sum() * 1/len(target['rougher.output.recovery']) * 100\n",
    "    return 0.25*rougher_sMAPE + 0.75*final_sMAPE"
   ]
  },
  {
   "cell_type": "code",
   "execution_count": 67,
   "metadata": {},
   "outputs": [],
   "source": [
    "score_sMAPE = make_scorer(metrics_sMAPE, greater_is_better=False)"
   ]
  },
  {
   "cell_type": "code",
   "execution_count": 68,
   "metadata": {},
   "outputs": [],
   "source": [
    "score_total_sMAPE = make_scorer(metrics_total_sMAPE, greater_is_better=False)"
   ]
  },
  {
   "cell_type": "markdown",
   "metadata": {},
   "source": [
    "Подготовим данные для обучения модели"
   ]
  },
  {
   "cell_type": "markdown",
   "metadata": {},
   "source": [
    "Сначала удалим признаки, которых нет в тестовой выборке:"
   ]
  },
  {
   "cell_type": "code",
   "execution_count": 69,
   "metadata": {},
   "outputs": [],
   "source": [
    "data_train = data_train.drop(list(set(missing_features) & set(list(data_train)) - set(['rougher.output.recovery', 'final.output.recovery'])), axis=1)"
   ]
  },
  {
   "cell_type": "code",
   "execution_count": 70,
   "metadata": {},
   "outputs": [
    {
     "name": "stdout",
     "output_type": "stream",
     "text": [
      "<class 'pandas.core.frame.DataFrame'>\n",
      "Int64Index: 11764 entries, 0 to 13089\n",
      "Data columns (total 55 columns):\n",
      " #   Column                                      Non-Null Count  Dtype  \n",
      "---  ------                                      --------------  -----  \n",
      " 0   date                                        11764 non-null  object \n",
      " 1   final.output.recovery                       11764 non-null  float64\n",
      " 2   primary_cleaner.input.sulfate               11764 non-null  float64\n",
      " 3   primary_cleaner.input.depressant            11764 non-null  float64\n",
      " 4   primary_cleaner.input.feed_size             11764 non-null  float64\n",
      " 5   primary_cleaner.input.xanthate              11764 non-null  float64\n",
      " 6   primary_cleaner.state.floatbank8_a_air      11764 non-null  float64\n",
      " 7   primary_cleaner.state.floatbank8_a_level    11764 non-null  float64\n",
      " 8   primary_cleaner.state.floatbank8_b_air      11764 non-null  float64\n",
      " 9   primary_cleaner.state.floatbank8_b_level    11764 non-null  float64\n",
      " 10  primary_cleaner.state.floatbank8_c_air      11764 non-null  float64\n",
      " 11  primary_cleaner.state.floatbank8_c_level    11764 non-null  float64\n",
      " 12  primary_cleaner.state.floatbank8_d_air      11764 non-null  float64\n",
      " 13  primary_cleaner.state.floatbank8_d_level    11764 non-null  float64\n",
      " 14  rougher.input.feed_ag                       11764 non-null  float64\n",
      " 15  rougher.input.feed_pb                       11764 non-null  float64\n",
      " 16  rougher.input.feed_rate                     11764 non-null  float64\n",
      " 17  rougher.input.feed_size                     11764 non-null  float64\n",
      " 18  rougher.input.feed_sol                      11764 non-null  float64\n",
      " 19  rougher.input.feed_au                       11764 non-null  float64\n",
      " 20  rougher.input.floatbank10_sulfate           11764 non-null  float64\n",
      " 21  rougher.input.floatbank10_xanthate          11764 non-null  float64\n",
      " 22  rougher.input.floatbank11_sulfate           11764 non-null  float64\n",
      " 23  rougher.input.floatbank11_xanthate          11764 non-null  float64\n",
      " 24  rougher.output.recovery                     11764 non-null  float64\n",
      " 25  rougher.state.floatbank10_a_air             11764 non-null  float64\n",
      " 26  rougher.state.floatbank10_a_level           11764 non-null  float64\n",
      " 27  rougher.state.floatbank10_b_air             11764 non-null  float64\n",
      " 28  rougher.state.floatbank10_b_level           11764 non-null  float64\n",
      " 29  rougher.state.floatbank10_c_air             11764 non-null  float64\n",
      " 30  rougher.state.floatbank10_c_level           11764 non-null  float64\n",
      " 31  rougher.state.floatbank10_d_air             11764 non-null  float64\n",
      " 32  rougher.state.floatbank10_d_level           11764 non-null  float64\n",
      " 33  rougher.state.floatbank10_e_air             11764 non-null  float64\n",
      " 34  rougher.state.floatbank10_e_level           11764 non-null  float64\n",
      " 35  rougher.state.floatbank10_f_air             11764 non-null  float64\n",
      " 36  rougher.state.floatbank10_f_level           11764 non-null  float64\n",
      " 37  secondary_cleaner.state.floatbank2_a_air    11764 non-null  float64\n",
      " 38  secondary_cleaner.state.floatbank2_a_level  11764 non-null  float64\n",
      " 39  secondary_cleaner.state.floatbank2_b_air    11764 non-null  float64\n",
      " 40  secondary_cleaner.state.floatbank2_b_level  11764 non-null  float64\n",
      " 41  secondary_cleaner.state.floatbank3_a_air    11764 non-null  float64\n",
      " 42  secondary_cleaner.state.floatbank3_a_level  11764 non-null  float64\n",
      " 43  secondary_cleaner.state.floatbank3_b_air    11764 non-null  float64\n",
      " 44  secondary_cleaner.state.floatbank3_b_level  11764 non-null  float64\n",
      " 45  secondary_cleaner.state.floatbank4_a_air    11764 non-null  float64\n",
      " 46  secondary_cleaner.state.floatbank4_a_level  11764 non-null  float64\n",
      " 47  secondary_cleaner.state.floatbank4_b_air    11764 non-null  float64\n",
      " 48  secondary_cleaner.state.floatbank4_b_level  11764 non-null  float64\n",
      " 49  secondary_cleaner.state.floatbank5_a_air    11764 non-null  float64\n",
      " 50  secondary_cleaner.state.floatbank5_a_level  11764 non-null  float64\n",
      " 51  secondary_cleaner.state.floatbank5_b_air    11764 non-null  float64\n",
      " 52  secondary_cleaner.state.floatbank5_b_level  11764 non-null  float64\n",
      " 53  secondary_cleaner.state.floatbank6_a_air    11764 non-null  float64\n",
      " 54  secondary_cleaner.state.floatbank6_a_level  11764 non-null  float64\n",
      "dtypes: float64(54), object(1)\n",
      "memory usage: 5.0+ MB\n"
     ]
    }
   ],
   "source": [
    "data_train.info()"
   ]
  },
  {
   "cell_type": "markdown",
   "metadata": {},
   "source": [
    "Выполним масштабирование признаков обучающей выборки:"
   ]
  },
  {
   "cell_type": "code",
   "execution_count": 71,
   "metadata": {},
   "outputs": [],
   "source": [
    "numeric = list(data_train)[1:]\n",
    "numeric.remove('rougher.output.recovery')\n",
    "numeric.remove('final.output.recovery')\n",
    "\n",
    "scaler = StandardScaler()\n",
    "scaler.fit(data_train[numeric])\n",
    "data_train_scale = data_train\n",
    "data_train_scale[numeric] = scaler.transform(data_train[numeric])"
   ]
  },
  {
   "cell_type": "markdown",
   "metadata": {},
   "source": [
    "Посмотрим на корреляцию признаков, чтобы понять, какие признаки имеют связь с целевым и посмотрим, нет ли утечки целевого признака:"
   ]
  },
  {
   "cell_type": "code",
   "execution_count": 72,
   "metadata": {
    "scrolled": false
   },
   "outputs": [
    {
     "data": {
      "text/plain": [
       "final.output.recovery                         1.000000\n",
       "rougher.output.recovery                       0.644475\n",
       "rougher.input.feed_ag                         0.398273\n",
       "primary_cleaner.input.sulfate                 0.383956\n",
       "rougher.input.feed_au                         0.366001\n",
       "rougher.input.floatbank10_xanthate            0.327400\n",
       "rougher.input.floatbank11_xanthate            0.305584\n",
       "rougher.state.floatbank10_a_air               0.258217\n",
       "rougher.state.floatbank10_c_air               0.244572\n",
       "rougher.state.floatbank10_d_air               0.234921\n",
       "secondary_cleaner.state.floatbank4_a_air      0.234129\n",
       "primary_cleaner.input.xanthate                0.229500\n",
       "rougher.input.feed_pb                         0.220790\n",
       "rougher.state.floatbank10_b_air               0.215411\n",
       "secondary_cleaner.state.floatbank2_a_air      0.207286\n",
       "secondary_cleaner.state.floatbank3_a_air      0.196607\n",
       "secondary_cleaner.state.floatbank4_b_air      0.194921\n",
       "rougher.input.feed_sol                        0.193263\n",
       "secondary_cleaner.state.floatbank2_b_air      0.182269\n",
       "primary_cleaner.input.depressant              0.181387\n",
       "rougher.state.floatbank10_e_air               0.167494\n",
       "rougher.input.feed_size                       0.165412\n",
       "rougher.state.floatbank10_f_air               0.163567\n",
       "primary_cleaner.state.floatbank8_b_air        0.162588\n",
       "primary_cleaner.state.floatbank8_c_air        0.156711\n",
       "rougher.input.feed_rate                       0.156667\n",
       "rougher.state.floatbank10_f_level             0.150395\n",
       "primary_cleaner.state.floatbank8_a_air        0.148487\n",
       "secondary_cleaner.state.floatbank4_b_level    0.142717\n",
       "rougher.state.floatbank10_b_level             0.140283\n",
       "rougher.state.floatbank10_d_level             0.136391\n",
       "rougher.state.floatbank10_c_level             0.133958\n",
       "rougher.state.floatbank10_e_level             0.132266\n",
       "primary_cleaner.state.floatbank8_c_level      0.111095\n",
       "primary_cleaner.state.floatbank8_a_level      0.104678\n",
       "rougher.state.floatbank10_a_level             0.095506\n",
       "secondary_cleaner.state.floatbank5_a_air      0.087632\n",
       "rougher.input.floatbank10_sulfate             0.081074\n",
       "rougher.input.floatbank11_sulfate             0.063886\n",
       "primary_cleaner.state.floatbank8_b_level      0.061200\n",
       "secondary_cleaner.state.floatbank5_b_air      0.056602\n",
       "secondary_cleaner.state.floatbank6_a_air      0.055545\n",
       "secondary_cleaner.state.floatbank3_b_level    0.050477\n",
       "primary_cleaner.state.floatbank8_d_air        0.048639\n",
       "secondary_cleaner.state.floatbank4_a_level    0.044657\n",
       "secondary_cleaner.state.floatbank5_b_level    0.043680\n",
       "secondary_cleaner.state.floatbank2_a_level    0.043206\n",
       "primary_cleaner.state.floatbank8_d_level      0.039014\n",
       "secondary_cleaner.state.floatbank2_b_level    0.038856\n",
       "secondary_cleaner.state.floatbank6_a_level    0.038780\n",
       "secondary_cleaner.state.floatbank5_a_level    0.038485\n",
       "secondary_cleaner.state.floatbank3_a_level    0.019784\n",
       "secondary_cleaner.state.floatbank3_b_air      0.016588\n",
       "primary_cleaner.input.feed_size               0.010948\n",
       "Name: final.output.recovery, dtype: float64"
      ]
     },
     "execution_count": 72,
     "metadata": {},
     "output_type": "execute_result"
    }
   ],
   "source": [
    "abs(data_train_scale.corr(method='spearman').loc[:, 'final.output.recovery']).sort_values(ascending=False)"
   ]
  },
  {
   "cell_type": "code",
   "execution_count": 73,
   "metadata": {
    "scrolled": false
   },
   "outputs": [
    {
     "data": {
      "text/plain": [
       "rougher.output.recovery                       1.000000\n",
       "final.output.recovery                         0.644475\n",
       "rougher.state.floatbank10_a_air               0.451145\n",
       "secondary_cleaner.state.floatbank4_a_air      0.430114\n",
       "secondary_cleaner.state.floatbank4_b_air      0.423724\n",
       "rougher.state.floatbank10_d_air               0.415485\n",
       "rougher.state.floatbank10_c_air               0.401795\n",
       "primary_cleaner.input.sulfate                 0.401610\n",
       "rougher.input.feed_pb                         0.382333\n",
       "rougher.input.feed_ag                         0.370343\n",
       "rougher.state.floatbank10_b_air               0.365820\n",
       "rougher.state.floatbank10_a_level             0.349226\n",
       "rougher.input.feed_au                         0.338719\n",
       "secondary_cleaner.state.floatbank2_a_air      0.333927\n",
       "secondary_cleaner.state.floatbank3_a_air      0.313861\n",
       "rougher.input.floatbank10_xanthate            0.300408\n",
       "rougher.state.floatbank10_e_air               0.291690\n",
       "secondary_cleaner.state.floatbank2_b_air      0.283733\n",
       "rougher.state.floatbank10_b_level             0.272726\n",
       "rougher.input.feed_sol                        0.272361\n",
       "rougher.state.floatbank10_f_level             0.267294\n",
       "rougher.state.floatbank10_f_air               0.264188\n",
       "rougher.input.floatbank11_xanthate            0.258472\n",
       "secondary_cleaner.state.floatbank5_a_air      0.256053\n",
       "rougher.state.floatbank10_c_level             0.253243\n",
       "rougher.state.floatbank10_e_level             0.252065\n",
       "rougher.state.floatbank10_d_level             0.250846\n",
       "secondary_cleaner.state.floatbank5_b_air      0.250674\n",
       "rougher.input.feed_size                       0.243871\n",
       "primary_cleaner.state.floatbank8_c_air        0.239917\n",
       "primary_cleaner.state.floatbank8_b_air        0.212127\n",
       "primary_cleaner.input.xanthate                0.189833\n",
       "primary_cleaner.state.floatbank8_a_air        0.189151\n",
       "secondary_cleaner.state.floatbank6_a_air      0.159120\n",
       "rougher.input.floatbank11_sulfate             0.157483\n",
       "rougher.input.floatbank10_sulfate             0.144601\n",
       "primary_cleaner.input.depressant              0.135407\n",
       "primary_cleaner.input.feed_size               0.119568\n",
       "primary_cleaner.state.floatbank8_d_air        0.118669\n",
       "secondary_cleaner.state.floatbank4_b_level    0.102538\n",
       "rougher.input.feed_rate                       0.073953\n",
       "secondary_cleaner.state.floatbank6_a_level    0.061327\n",
       "primary_cleaner.state.floatbank8_c_level      0.051836\n",
       "primary_cleaner.state.floatbank8_a_level      0.046157\n",
       "secondary_cleaner.state.floatbank3_b_level    0.036928\n",
       "secondary_cleaner.state.floatbank2_a_level    0.028697\n",
       "secondary_cleaner.state.floatbank3_b_air      0.028438\n",
       "secondary_cleaner.state.floatbank4_a_level    0.022157\n",
       "secondary_cleaner.state.floatbank3_a_level    0.021733\n",
       "primary_cleaner.state.floatbank8_d_level      0.017395\n",
       "primary_cleaner.state.floatbank8_b_level      0.015682\n",
       "secondary_cleaner.state.floatbank5_b_level    0.014072\n",
       "secondary_cleaner.state.floatbank2_b_level    0.010559\n",
       "secondary_cleaner.state.floatbank5_a_level    0.002578\n",
       "Name: rougher.output.recovery, dtype: float64"
      ]
     },
     "execution_count": 73,
     "metadata": {},
     "output_type": "execute_result"
    }
   ],
   "source": [
    "abs(data_train_scale.corr(method='spearman').loc[:, 'rougher.output.recovery']).sort_values(ascending=False)"
   ]
  },
  {
   "cell_type": "markdown",
   "metadata": {},
   "source": [
    "Удалим признаки с низкой корреляцией"
   ]
  },
  {
   "cell_type": "code",
   "execution_count": 74,
   "metadata": {},
   "outputs": [],
   "source": [
    "f1 = (abs(data_train_scale.corr(method='spearman').loc[:, 'final.output.recovery']).sort_values(ascending=False))\n",
    "f2 = abs(data_train_scale.corr(method='spearman').loc[:, 'rougher.output.recovery']).sort_values(ascending=False)\n",
    "unimportant_feature = list(set(list(f1[f1 < 0.2].index) + list(f2[f2 < 0.2].index)))"
   ]
  },
  {
   "cell_type": "code",
   "execution_count": 75,
   "metadata": {},
   "outputs": [],
   "source": [
    "data_train_scale = data_train_scale.drop(unimportant_feature, axis=1)"
   ]
  },
  {
   "cell_type": "markdown",
   "metadata": {},
   "source": [
    "Так как целевой признак для тестовой выборки недоступен, то разделим тренировочную выборку на тренировочную и тестовую:"
   ]
  },
  {
   "cell_type": "code",
   "execution_count": 76,
   "metadata": {},
   "outputs": [],
   "source": [
    "target = data_train_scale.loc[:, ['rougher.output.recovery', 'final.output.recovery']]\n",
    "features = data_train_scale.drop(['date', 'rougher.output.recovery', 'final.output.recovery'] , axis=1)"
   ]
  },
  {
   "cell_type": "markdown",
   "metadata": {},
   "source": [
    "Обучим и проверим несколько моделей. Начнём с модели линейной регрессии:"
   ]
  },
  {
   "cell_type": "code",
   "execution_count": 77,
   "metadata": {},
   "outputs": [
    {
     "name": "stdout",
     "output_type": "stream",
     "text": [
      "Итоговое sMAPE для модели линейной регрессии: 6.95%\n"
     ]
    }
   ],
   "source": [
    "model_linear_regression_rougher = LinearRegression()\n",
    "print('Итоговое sMAPE для модели линейной регрессии: {:.3}%'\n",
    "      .format((cross_val_score(model_linear_regression_rougher, features, target, cv=5, scoring=score_total_sMAPE).mean())*-1))"
   ]
  },
  {
   "cell_type": "markdown",
   "metadata": {},
   "source": [
    "Попробуем использовать две модели для предсказания двух целевых значений или одну. <br>\n",
    "Посмотрим, какой способ лучше <br>\n",
    "При помощи кросс-валидации подберём наилучшие гиперпараметры для случайного леса"
   ]
  },
  {
   "cell_type": "code",
   "execution_count": 78,
   "metadata": {},
   "outputs": [
    {
     "name": "stdout",
     "output_type": "stream",
     "text": [
      "Лучшее значение sMAPE при кросс-валидации:  5.678502328406662\n",
      "Лучший результат при проверке модели случайного леса получен: n_estimators = 110, max_depth = 5\n",
      "Wall time: 3min 50s\n"
     ]
    }
   ],
   "source": [
    "%%time\n",
    "\n",
    "model_rougher_forest_GS = RandomForestRegressor(random_state=12345)\n",
    "param_grid = {\n",
    "    'n_estimators' : [i for i in range(70,111,5)],\n",
    "    'max_depth' : [i for i in range(3,15,2)]\n",
    "}\n",
    "\n",
    "CV_model_forest_GS = GridSearchCV(estimator=model_rougher_forest_GS, param_grid=param_grid, cv= 5, scoring=score_sMAPE, n_jobs=-1)\n",
    "CV_model_forest_GS.fit(features, target['rougher.output.recovery'])\n",
    "CV_model_forest_GS.best_params_\n",
    "\n",
    "depth_forest_rougher = CV_model_forest_GS.best_params_['max_depth']\n",
    "estimators_rougher = CV_model_forest_GS.best_params_['n_estimators']\n",
    "\n",
    "rougher_sMAPE = (CV_model_forest_GS.best_score_)*-1\n",
    "print('Лучшее значение sMAPE при кросс-валидации: ', rougher_sMAPE)\n",
    "print('Лучший результат при проверке модели случайного леса получен: n_estimators = {:}, max_depth = {:}'\n",
    "      .format(estimators_rougher, depth_forest_rougher))"
   ]
  },
  {
   "cell_type": "code",
   "execution_count": 79,
   "metadata": {},
   "outputs": [
    {
     "name": "stdout",
     "output_type": "stream",
     "text": [
      "Лучшее значение sMAPE:  6.797724841913201\n",
      "Лучший результат при проверке модели случайного леса получен: n_estimators = 80, max_depth = 5\n",
      "Wall time: 3min 46s\n"
     ]
    }
   ],
   "source": [
    "%%time\n",
    "\n",
    "model_final_forest_GS = RandomForestRegressor(random_state=12345)\n",
    "param_grid = {\n",
    "    'n_estimators' : [i for i in range(70,111,5)],\n",
    "    'max_depth' : [i for i in range(3,15,2)]\n",
    "}\n",
    "\n",
    "CV_model_forest_GS = GridSearchCV(estimator=model_final_forest_GS, param_grid=param_grid, cv= 5, scoring=score_sMAPE, n_jobs=-1)\n",
    "CV_model_forest_GS.fit(features, target['final.output.recovery'])\n",
    "CV_model_forest_GS.best_params_\n",
    "\n",
    "depth_forest_final = CV_model_forest_GS.best_params_['max_depth']\n",
    "estimators_final = CV_model_forest_GS.best_params_['n_estimators']\n",
    "\n",
    "final_sMAPE = (CV_model_forest_GS.best_score_)*-1\n",
    "print('Лучшее значение sMAPE: ', final_sMAPE)\n",
    "print('Лучший результат при проверке модели случайного леса получен: n_estimators = {:}, max_depth = {:}'\n",
    "      .format(estimators_final, depth_forest_final))"
   ]
  },
  {
   "cell_type": "markdown",
   "metadata": {},
   "source": [
    "Посчитаем итоговое sMAPE:"
   ]
  },
  {
   "cell_type": "code",
   "execution_count": 80,
   "metadata": {},
   "outputs": [
    {
     "name": "stdout",
     "output_type": "stream",
     "text": [
      "Итоговое sMAPE: 6.52%\n"
     ]
    }
   ],
   "source": [
    "print('Итоговое sMAPE: {:.3}%'.format(0.25*rougher_sMAPE + 0.75*final_sMAPE))"
   ]
  },
  {
   "cell_type": "markdown",
   "metadata": {},
   "source": [
    "Теперь попробуем использовать одну модель для предсказания обоих признаков:"
   ]
  },
  {
   "cell_type": "code",
   "execution_count": 81,
   "metadata": {},
   "outputs": [
    {
     "name": "stdout",
     "output_type": "stream",
     "text": [
      "Лучшее значение итогового sMAPE:  6.754396998772383\n",
      "Лучший результат при проверке модели случайного леса получен: n_estimators = 75, max_depth = 7\n",
      "Wall time: 4min 1s\n"
     ]
    }
   ],
   "source": [
    "%%time\n",
    "\n",
    "model_total_recovery_forest_GS = RandomForestRegressor(random_state=12345)\n",
    "param_grid = {\n",
    "    'n_estimators' : [i for i in range(70,111,5)],\n",
    "    'max_depth' : [i for i in range(3,15,2)]    \n",
    "}\n",
    "\n",
    "CV_model_forest_GS = GridSearchCV(estimator=model_total_recovery_forest_GS, param_grid=param_grid, cv= 5, scoring=score_total_sMAPE, n_jobs=-1)\n",
    "CV_model_forest_GS.fit(features, target)\n",
    "CV_model_forest_GS.best_params_\n",
    "\n",
    "depth_forest_full = CV_model_forest_GS.best_params_['max_depth']\n",
    "estimators_full = CV_model_forest_GS.best_params_['n_estimators']\n",
    "\n",
    "final_sMAPE = (CV_model_forest_GS.best_score_)*-1\n",
    "print('Лучшее значение итогового sMAPE: ', final_sMAPE)\n",
    "print('Лучший результат при проверке модели случайного леса получен: n_estimators = {:}, max_depth = {:}'\n",
    "      .format(estimators_full, depth_forest_full))"
   ]
  },
  {
   "cell_type": "markdown",
   "metadata": {},
   "source": [
    "Итоговые результаты метрики sMAPE, полученные локально, для:\n",
    "1. модели линейной регрессии 7.69%\n",
    "2. двух моделей случайного леса 6.83%\n",
    "3. одной модели случайного леса 6.85%\n"
   ]
  },
  {
   "cell_type": "markdown",
   "metadata": {},
   "source": [
    "Применим модели к тестовой выборке."
   ]
  },
  {
   "cell_type": "markdown",
   "metadata": {},
   "source": [
    "Обучим модели на полном наборе тренировочных данных:"
   ]
  },
  {
   "cell_type": "code",
   "execution_count": 82,
   "metadata": {},
   "outputs": [],
   "source": [
    "model_rougher = RandomForestRegressor(n_estimators = 80, max_depth = 5, random_state=12345, n_jobs=-1)\n",
    "model_final = RandomForestRegressor(n_estimators = 105, max_depth = 9, random_state=12345, n_jobs=-1)\n",
    "model_full = RandomForestRegressor(n_estimators = estimators_full, max_depth = depth_forest_full, random_state=12345, n_jobs=-1)"
   ]
  },
  {
   "cell_type": "code",
   "execution_count": 83,
   "metadata": {},
   "outputs": [
    {
     "data": {
      "text/plain": [
       "LinearRegression(copy_X=True, fit_intercept=True, n_jobs=None, normalize=False)"
      ]
     },
     "execution_count": 83,
     "metadata": {},
     "output_type": "execute_result"
    }
   ],
   "source": [
    "model_LR = LinearRegression()\n",
    "model_LR.fit(features, target)"
   ]
  },
  {
   "cell_type": "code",
   "execution_count": 84,
   "metadata": {},
   "outputs": [
    {
     "data": {
      "text/plain": [
       "RandomForestRegressor(bootstrap=True, ccp_alpha=0.0, criterion='mse',\n",
       "                      max_depth=7, max_features='auto', max_leaf_nodes=None,\n",
       "                      max_samples=None, min_impurity_decrease=0.0,\n",
       "                      min_impurity_split=None, min_samples_leaf=1,\n",
       "                      min_samples_split=2, min_weight_fraction_leaf=0.0,\n",
       "                      n_estimators=75, n_jobs=-1, oob_score=False,\n",
       "                      random_state=12345, verbose=0, warm_start=False)"
      ]
     },
     "execution_count": 84,
     "metadata": {},
     "output_type": "execute_result"
    }
   ],
   "source": [
    "model_rougher.fit(features, target['rougher.output.recovery'])\n",
    "model_final.fit(features, target['final.output.recovery'])\n",
    "model_full.fit(features, target)"
   ]
  },
  {
   "cell_type": "markdown",
   "metadata": {},
   "source": [
    "Масштабируем тестовые данные:"
   ]
  },
  {
   "cell_type": "code",
   "execution_count": 85,
   "metadata": {},
   "outputs": [],
   "source": [
    "data_test_scale = data_test.drop('date', axis=1)\n",
    "data_test_scale[numeric] = scaler.transform(data_test[numeric])"
   ]
  },
  {
   "cell_type": "code",
   "execution_count": 86,
   "metadata": {},
   "outputs": [],
   "source": [
    "data_test_scale = data_test_scale.drop(unimportant_feature, axis=1)"
   ]
  },
  {
   "cell_type": "markdown",
   "metadata": {},
   "source": [
    "Проверим модели на тестовых данных:"
   ]
  },
  {
   "cell_type": "code",
   "execution_count": 87,
   "metadata": {},
   "outputs": [],
   "source": [
    "rougher_predict = model_rougher.predict(data_test_scale)\n",
    "final_predict = model_final.predict(data_test_scale)\n",
    "full_predict = model_full.predict(data_test_scale)"
   ]
  },
  {
   "cell_type": "code",
   "execution_count": 88,
   "metadata": {},
   "outputs": [],
   "source": [
    "linear_regee_predict = model_LR.predict(data_test_scale)"
   ]
  },
  {
   "cell_type": "code",
   "execution_count": 89,
   "metadata": {},
   "outputs": [],
   "source": [
    "answers = pd.merge(left=data_test, right=data_full.loc[:, ['date', 'rougher.output.recovery', 'final.output.recovery']], \n",
    "         on='date', how='left').loc[:, ['rougher.output.recovery', 'final.output.recovery']]"
   ]
  },
  {
   "cell_type": "code",
   "execution_count": 90,
   "metadata": {},
   "outputs": [
    {
     "name": "stdout",
     "output_type": "stream",
     "text": [
      "Итоговое sMAPE для модели случайный лес, предсказывающей сразу 2 признака: 9.368%\n"
     ]
    }
   ],
   "source": [
    "print('Итоговое sMAPE для модели случайный лес, предсказывающей сразу 2 признака: {:.4}%'.format(\n",
    "metrics_total_sMAPE(answers, full_predict)))"
   ]
  },
  {
   "cell_type": "code",
   "execution_count": 91,
   "metadata": {},
   "outputs": [
    {
     "name": "stdout",
     "output_type": "stream",
     "text": [
      "Итоговое sMAPE для двух моделей предсказывающих признаки раздельно: 8.989%\n"
     ]
    }
   ],
   "source": [
    "print('Итоговое sMAPE для двух моделей предсказывающих признаки раздельно: {:.4}%'.format(\n",
    "metrics_total_sMAPE(answers, np.array([rougher_predict, final_predict]).T)))"
   ]
  },
  {
   "cell_type": "markdown",
   "metadata": {},
   "source": [
    "Модели показывают одинаковое значение sMAPE порядка 8.8%"
   ]
  },
  {
   "cell_type": "code",
   "execution_count": 92,
   "metadata": {},
   "outputs": [
    {
     "name": "stdout",
     "output_type": "stream",
     "text": [
      "Итоговое sMAPE для модели линейной регрессии: 8.448%\n"
     ]
    }
   ],
   "source": [
    "print('Итоговое sMAPE для модели линейной регрессии: {:.4}%'.format(\n",
    "metrics_total_sMAPE(answers, linear_regee_predict)))"
   ]
  },
  {
   "cell_type": "markdown",
   "metadata": {},
   "source": [
    "Сравним модели с константной, предсказывающей среднее/медианное значение:"
   ]
  },
  {
   "cell_type": "code",
   "execution_count": 93,
   "metadata": {},
   "outputs": [
    {
     "name": "stdout",
     "output_type": "stream",
     "text": [
      "Итогове sMAPE для медианной модели: 7.456% \n",
      "Итогове sMAPE для модели всегда предсказывающей среднее: 7.461%:\n"
     ]
    }
   ],
   "source": [
    "target_roughter_median = [target['rougher.output.recovery'].median() for i in range(len(target['rougher.output.recovery']))]\n",
    "target_roughter_mean = [target['rougher.output.recovery'].mean() for i in range(len(target['rougher.output.recovery']))]\n",
    "target_final_median = [target['final.output.recovery'].median() for i in range(len(target['final.output.recovery']))]\n",
    "target_final_mean = [target['final.output.recovery'].mean() for i in range(len(target['final.output.recovery']))]\n",
    "\n",
    "median_model_predict = np.array([target_roughter_median, target_final_median]).T\n",
    "mean_model_predict = np.array([target_roughter_mean, target_final_mean]).T\n",
    "\n",
    "print('Итогове sMAPE для медианной модели: {:.4}% \\nИтогове sMAPE для модели всегда предсказывающей среднее: {:.4}%:'.format(\n",
    "    metrics_total_sMAPE(target, median_model_predict),\n",
    "    metrics_total_sMAPE(target, mean_model_predict)\n",
    "))"
   ]
  },
  {
   "cell_type": "markdown",
   "metadata": {},
   "source": [
    "## Вывод:\n",
    "В результате работы было выяснено, как меняется концентрация веществ на разных этапах технологического процесса/"
   ]
  },
  {
   "cell_type": "markdown",
   "metadata": {},
   "source": [
    "- [x]  Jupyter Notebook открыт\n",
    "- [x]  Весь код выполняется без ошибок\n",
    "- [x]  Ячейки с кодом расположены в порядке выполнения\n",
    "- [x]  Выполнен шаг 1: данные подготовлены\n",
    "    - [x]  Проверена формула вычисления эффективности обогащения\n",
    "    - [x]  Проанализированы признаки, недоступные в тестовой выборке\n",
    "    - [x]  Проведена предобработка данных\n",
    "- [x]  Выполнен шаг 2: данные проанализированы\n",
    "    - [x]  Исследовано изменение концентрации элементов на каждом этапе\n",
    "    - [x]  Проанализированы распределения размеров гранул на обучающей и тестовой выборках\n",
    "    - [x]  Исследованы суммарные концентрации\n",
    "    - [x]  Проанализированы и обработаны аномальные значения\n",
    "- [x]  Выполнен шаг 3: построена модель прогнозирования\n",
    "    - [x]  Написана функция для вычисления итогового *sMAPE*\n",
    "    - [x]  Обучено и проверено несколько моделей\n",
    "    - [x]  Выбрана лучшая модель, её качество проверено на тестовой выборке"
   ]
  }
 ],
 "metadata": {
  "kernelspec": {
   "display_name": "Python 3",
   "language": "python",
   "name": "python3"
  },
  "language_info": {
   "codemirror_mode": {
    "name": "ipython",
    "version": 3
   },
   "file_extension": ".py",
   "mimetype": "text/x-python",
   "name": "python",
   "nbconvert_exporter": "python",
   "pygments_lexer": "ipython3",
   "version": "3.7.6"
  }
 },
 "nbformat": 4,
 "nbformat_minor": 2
}

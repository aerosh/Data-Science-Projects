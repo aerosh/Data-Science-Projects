{
 "cells": [
  {
   "cell_type": "code",
   "execution_count": 1,
   "metadata": {},
   "outputs": [],
   "source": [
    "import pandas as pd\n",
    "from sklearn.model_selection import train_test_split\n",
    "from sklearn.linear_model import LinearRegression\n",
    "from sklearn.ensemble import RandomForestRegressor\n",
    "from sklearn.metrics import mean_absolute_error\n",
    "from sklearn.model_selection import GridSearchCV\n",
    "import joblib"
   ]
  },
  {
   "cell_type": "code",
   "execution_count": 3,
   "metadata": {},
   "outputs": [
    {
     "data": {
      "text/html": [
       "<div>\n",
       "<style scoped>\n",
       "    .dataframe tbody tr th:only-of-type {\n",
       "        vertical-align: middle;\n",
       "    }\n",
       "\n",
       "    .dataframe tbody tr th {\n",
       "        vertical-align: top;\n",
       "    }\n",
       "\n",
       "    .dataframe thead th {\n",
       "        text-align: right;\n",
       "    }\n",
       "</style>\n",
       "<table border=\"1\" class=\"dataframe\">\n",
       "  <thead>\n",
       "    <tr style=\"text-align: right;\">\n",
       "      <th></th>\n",
       "      <th>Month</th>\n",
       "      <th>Day</th>\n",
       "      <th>Day Of Week</th>\n",
       "      <th>Origin Airport Delay Rate</th>\n",
       "      <th>Destination Airport Delay Rate</th>\n",
       "      <th>Scheduled Time</th>\n",
       "      <th>Distance</th>\n",
       "      <th>Scheduled Departure Hour</th>\n",
       "      <th>Scheduled Departure Minute</th>\n",
       "      <th>Arrival Delay</th>\n",
       "      <th>...</th>\n",
       "      <th>Airline_EV</th>\n",
       "      <th>Airline_F9</th>\n",
       "      <th>Airline_HA</th>\n",
       "      <th>Airline_MQ</th>\n",
       "      <th>Airline_NK</th>\n",
       "      <th>Airline_OO</th>\n",
       "      <th>Airline_UA</th>\n",
       "      <th>Airline_US</th>\n",
       "      <th>Airline_VX</th>\n",
       "      <th>Airline_WN</th>\n",
       "    </tr>\n",
       "  </thead>\n",
       "  <tbody>\n",
       "    <tr>\n",
       "      <td>0</td>\n",
       "      <td>0.0</td>\n",
       "      <td>-0.956289</td>\n",
       "      <td>0.425688</td>\n",
       "      <td>-0.607571</td>\n",
       "      <td>-0.538144</td>\n",
       "      <td>1.064249</td>\n",
       "      <td>0.906818</td>\n",
       "      <td>-1.000305</td>\n",
       "      <td>1.551139</td>\n",
       "      <td>-13.0</td>\n",
       "      <td>...</td>\n",
       "      <td>0</td>\n",
       "      <td>0</td>\n",
       "      <td>0</td>\n",
       "      <td>0</td>\n",
       "      <td>0</td>\n",
       "      <td>0</td>\n",
       "      <td>0</td>\n",
       "      <td>0</td>\n",
       "      <td>0</td>\n",
       "      <td>1</td>\n",
       "    </tr>\n",
       "    <tr>\n",
       "      <td>1</td>\n",
       "      <td>0.0</td>\n",
       "      <td>0.144670</td>\n",
       "      <td>1.379526</td>\n",
       "      <td>-0.607571</td>\n",
       "      <td>2.050538</td>\n",
       "      <td>0.370303</td>\n",
       "      <td>0.425303</td>\n",
       "      <td>-1.000305</td>\n",
       "      <td>0.183960</td>\n",
       "      <td>-12.0</td>\n",
       "      <td>...</td>\n",
       "      <td>0</td>\n",
       "      <td>0</td>\n",
       "      <td>0</td>\n",
       "      <td>0</td>\n",
       "      <td>0</td>\n",
       "      <td>0</td>\n",
       "      <td>0</td>\n",
       "      <td>0</td>\n",
       "      <td>0</td>\n",
       "      <td>0</td>\n",
       "    </tr>\n",
       "    <tr>\n",
       "      <td>2</td>\n",
       "      <td>0.0</td>\n",
       "      <td>0.144670</td>\n",
       "      <td>1.379526</td>\n",
       "      <td>-0.607571</td>\n",
       "      <td>-0.538144</td>\n",
       "      <td>-1.279458</td>\n",
       "      <td>-1.156818</td>\n",
       "      <td>-2.664610</td>\n",
       "      <td>0.183960</td>\n",
       "      <td>189.0</td>\n",
       "      <td>...</td>\n",
       "      <td>0</td>\n",
       "      <td>0</td>\n",
       "      <td>0</td>\n",
       "      <td>0</td>\n",
       "      <td>0</td>\n",
       "      <td>0</td>\n",
       "      <td>0</td>\n",
       "      <td>1</td>\n",
       "      <td>0</td>\n",
       "      <td>0</td>\n",
       "    </tr>\n",
       "    <tr>\n",
       "      <td>3</td>\n",
       "      <td>0.0</td>\n",
       "      <td>-0.405810</td>\n",
       "      <td>0.902607</td>\n",
       "      <td>-0.607571</td>\n",
       "      <td>-0.538144</td>\n",
       "      <td>0.213183</td>\n",
       "      <td>0.145238</td>\n",
       "      <td>-0.792267</td>\n",
       "      <td>-0.089476</td>\n",
       "      <td>-7.0</td>\n",
       "      <td>...</td>\n",
       "      <td>0</td>\n",
       "      <td>0</td>\n",
       "      <td>0</td>\n",
       "      <td>0</td>\n",
       "      <td>0</td>\n",
       "      <td>0</td>\n",
       "      <td>0</td>\n",
       "      <td>0</td>\n",
       "      <td>0</td>\n",
       "      <td>1</td>\n",
       "    </tr>\n",
       "    <tr>\n",
       "      <td>4</td>\n",
       "      <td>0.0</td>\n",
       "      <td>0.695149</td>\n",
       "      <td>-1.481987</td>\n",
       "      <td>1.870459</td>\n",
       "      <td>-0.538144</td>\n",
       "      <td>-0.978311</td>\n",
       "      <td>-1.184660</td>\n",
       "      <td>-1.624419</td>\n",
       "      <td>1.058954</td>\n",
       "      <td>-4.0</td>\n",
       "      <td>...</td>\n",
       "      <td>1</td>\n",
       "      <td>0</td>\n",
       "      <td>0</td>\n",
       "      <td>0</td>\n",
       "      <td>0</td>\n",
       "      <td>0</td>\n",
       "      <td>0</td>\n",
       "      <td>0</td>\n",
       "      <td>0</td>\n",
       "      <td>0</td>\n",
       "    </tr>\n",
       "  </tbody>\n",
       "</table>\n",
       "<p>5 rows × 23 columns</p>\n",
       "</div>"
      ],
      "text/plain": [
       "   Month       Day  Day Of Week  Origin Airport Delay Rate  \\\n",
       "0    0.0 -0.956289     0.425688                  -0.607571   \n",
       "1    0.0  0.144670     1.379526                  -0.607571   \n",
       "2    0.0  0.144670     1.379526                  -0.607571   \n",
       "3    0.0 -0.405810     0.902607                  -0.607571   \n",
       "4    0.0  0.695149    -1.481987                   1.870459   \n",
       "\n",
       "   Destination Airport Delay Rate  Scheduled Time  Distance  \\\n",
       "0                       -0.538144        1.064249  0.906818   \n",
       "1                        2.050538        0.370303  0.425303   \n",
       "2                       -0.538144       -1.279458 -1.156818   \n",
       "3                       -0.538144        0.213183  0.145238   \n",
       "4                       -0.538144       -0.978311 -1.184660   \n",
       "\n",
       "   Scheduled Departure Hour  Scheduled Departure Minute  Arrival Delay  ...  \\\n",
       "0                 -1.000305                    1.551139          -13.0  ...   \n",
       "1                 -1.000305                    0.183960          -12.0  ...   \n",
       "2                 -2.664610                    0.183960          189.0  ...   \n",
       "3                 -0.792267                   -0.089476           -7.0  ...   \n",
       "4                 -1.624419                    1.058954           -4.0  ...   \n",
       "\n",
       "   Airline_EV  Airline_F9  Airline_HA  Airline_MQ  Airline_NK  Airline_OO  \\\n",
       "0           0           0           0           0           0           0   \n",
       "1           0           0           0           0           0           0   \n",
       "2           0           0           0           0           0           0   \n",
       "3           0           0           0           0           0           0   \n",
       "4           1           0           0           0           0           0   \n",
       "\n",
       "   Airline_UA  Airline_US  Airline_VX  Airline_WN  \n",
       "0           0           0           0           1  \n",
       "1           0           0           0           0  \n",
       "2           0           1           0           0  \n",
       "3           0           0           0           1  \n",
       "4           0           0           0           0  \n",
       "\n",
       "[5 rows x 23 columns]"
      ]
     },
     "execution_count": 3,
     "metadata": {},
     "output_type": "execute_result"
    }
   ],
   "source": [
    "data = pd.read_csv('/datasets/flights_preprocessed.csv')\n",
    "data.head()"
   ]
  },
  {
   "cell_type": "code",
   "execution_count": 4,
   "metadata": {},
   "outputs": [],
   "source": [
    "target = data['Arrival Delay']\n",
    "features = data.drop(['Arrival Delay'] , axis=1)\n",
    "\n",
    "features_train, features_valid, target_train, target_valid = train_test_split(\n",
    "    features, target, test_size=0.25, random_state=12345)"
   ]
  },
  {
   "cell_type": "code",
   "execution_count": 5,
   "metadata": {},
   "outputs": [
    {
     "name": "stdout",
     "output_type": "stream",
     "text": [
      "25.475359743642365\n"
     ]
    }
   ],
   "source": [
    "model = RandomForestRegressor(n_estimators=101, max_depth=12, random_state=12345)\n",
    "model.fit(features_train, target_train)\n",
    "print(mean_absolute_error(target_valid, model.predict(features_valid)))"
   ]
  },
  {
   "cell_type": "code",
   "execution_count": 6,
   "metadata": {},
   "outputs": [
    {
     "data": {
      "text/plain": [
       "['model_101_12_yand.joblib']"
      ]
     },
     "execution_count": 6,
     "metadata": {},
     "output_type": "execute_result"
    }
   ],
   "source": [
    "model = RandomForestRegressor(n_estimators=101, max_depth=12, random_state=12345)\n",
    "model.fit(features, target)\n",
    "joblib.dump(model, 'model_101_12_yand.joblib')"
   ]
  },
  {
   "cell_type": "code",
   "execution_count": 7,
   "metadata": {},
   "outputs": [
    {
     "name": "stdout",
     "output_type": "stream",
     "text": [
      "Лучший результат при проверке модели случайного леса получен: n_estimators = 19, max_depth = 11\n",
      "CPU times: user 47min 31s, sys: 584 ms, total: 47min 32s\n",
      "Wall time: 48min 43s\n"
     ]
    }
   ],
   "source": [
    "%%time\n",
    "\n",
    "model_forest_GS = RandomForestRegressor(random_state=12345)\n",
    "param_grid = {\n",
    "    'n_estimators' : [i for i in range(5,20)],\n",
    "    'max_depth' : [i for i in range(5,20)]\n",
    "}\n",
    "CV_model_forest_GS = GridSearchCV(estimator=model_forest_GS, param_grid=param_grid, cv= 5, scoring='neg_mean_absolute_error')\n",
    "CV_model_forest_GS.fit(features, target)\n",
    "CV_model_forest_GS.best_params_\n",
    "\n",
    "depth_forest = CV_model_forest_GS.best_params_['max_depth']\n",
    "estimators = CV_model_forest_GS.best_params_['n_estimators']\n",
    "\n",
    "print('Лучший результат при проверке модели случайного леса получен: n_estimators = {:}, max_depth = {:}'\n",
    "      .format(estimators, depth_forest))"
   ]
  },
  {
   "cell_type": "code",
   "execution_count": 8,
   "metadata": {},
   "outputs": [
    {
     "data": {
      "text/plain": [
       "-25.643829767539515"
      ]
     },
     "execution_count": 8,
     "metadata": {},
     "output_type": "execute_result"
    }
   ],
   "source": [
    "CV_model_forest_GS.best_score_"
   ]
  },
  {
   "cell_type": "code",
   "execution_count": null,
   "metadata": {},
   "outputs": [],
   "source": []
  }
 ],
 "metadata": {
  "kernelspec": {
   "display_name": "Python 3",
   "language": "python",
   "name": "python3"
  },
  "language_info": {
   "codemirror_mode": {
    "name": "ipython",
    "version": 3
   },
   "file_extension": ".py",
   "mimetype": "text/x-python",
   "name": "python",
   "nbconvert_exporter": "python",
   "pygments_lexer": "ipython3",
   "version": "3.7.6"
  }
 },
 "nbformat": 4,
 "nbformat_minor": 2
}
